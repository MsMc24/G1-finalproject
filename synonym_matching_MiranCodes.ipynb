{
  "nbformat": 4,
  "nbformat_minor": 0,
  "metadata": {
    "colab": {
      "provenance": [],
      "include_colab_link": true
    },
    "kernelspec": {
      "name": "python3",
      "display_name": "Python 3"
    },
    "language_info": {
      "name": "python"
    },
    "widgets": {
      "application/vnd.jupyter.widget-state+json": {
        "41dd58c369b04a94809af611283db9ca": {
          "model_module": "@jupyter-widgets/controls",
          "model_name": "VBoxModel",
          "model_module_version": "1.5.0",
          "state": {
            "_dom_classes": [],
            "_model_module": "@jupyter-widgets/controls",
            "_model_module_version": "1.5.0",
            "_model_name": "VBoxModel",
            "_view_count": null,
            "_view_module": "@jupyter-widgets/controls",
            "_view_module_version": "1.5.0",
            "_view_name": "VBoxView",
            "box_style": "",
            "children": [
              "IPY_MODEL_e87e2c81d4c345888ce16af5abd951a3",
              "IPY_MODEL_d79f89a13d75447b856a754d4fbc54aa"
            ],
            "layout": "IPY_MODEL_cc5539469e2145b39d3af5ca170774b3"
          }
        },
        "e87e2c81d4c345888ce16af5abd951a3": {
          "model_module": "@jupyter-widgets/controls",
          "model_name": "TextModel",
          "model_module_version": "1.5.0",
          "state": {
            "_dom_classes": [],
            "_model_module": "@jupyter-widgets/controls",
            "_model_module_version": "1.5.0",
            "_model_name": "TextModel",
            "_view_count": null,
            "_view_module": "@jupyter-widgets/controls",
            "_view_module_version": "1.5.0",
            "_view_name": "TextView",
            "continuous_update": true,
            "description": "colorful",
            "description_tooltip": null,
            "disabled": false,
            "layout": "IPY_MODEL_e5d189203e15435a8a65bb3c129655a4",
            "placeholder": "​",
            "style": "IPY_MODEL_59a811aeb982456885a5a1e1a15d796c",
            "value": "vibrant"
          }
        },
        "d79f89a13d75447b856a754d4fbc54aa": {
          "model_module": "@jupyter-widgets/controls",
          "model_name": "ButtonModel",
          "model_module_version": "1.5.0",
          "state": {
            "_dom_classes": [],
            "_model_module": "@jupyter-widgets/controls",
            "_model_module_version": "1.5.0",
            "_model_name": "ButtonModel",
            "_view_count": null,
            "_view_module": "@jupyter-widgets/controls",
            "_view_module_version": "1.5.0",
            "_view_name": "ButtonView",
            "button_style": "",
            "description": "Check Answer",
            "disabled": false,
            "icon": "",
            "layout": "IPY_MODEL_1764359d9993475daebe5957f426aa1a",
            "style": "IPY_MODEL_ab9f573bf5b048a2b9d7ab1c49422558",
            "tooltip": ""
          }
        },
        "cc5539469e2145b39d3af5ca170774b3": {
          "model_module": "@jupyter-widgets/base",
          "model_name": "LayoutModel",
          "model_module_version": "1.2.0",
          "state": {
            "_model_module": "@jupyter-widgets/base",
            "_model_module_version": "1.2.0",
            "_model_name": "LayoutModel",
            "_view_count": null,
            "_view_module": "@jupyter-widgets/base",
            "_view_module_version": "1.2.0",
            "_view_name": "LayoutView",
            "align_content": null,
            "align_items": null,
            "align_self": null,
            "border": null,
            "bottom": null,
            "display": null,
            "flex": null,
            "flex_flow": null,
            "grid_area": null,
            "grid_auto_columns": null,
            "grid_auto_flow": null,
            "grid_auto_rows": null,
            "grid_column": null,
            "grid_gap": null,
            "grid_row": null,
            "grid_template_areas": null,
            "grid_template_columns": null,
            "grid_template_rows": null,
            "height": null,
            "justify_content": null,
            "justify_items": null,
            "left": null,
            "margin": null,
            "max_height": null,
            "max_width": null,
            "min_height": null,
            "min_width": null,
            "object_fit": null,
            "object_position": null,
            "order": null,
            "overflow": null,
            "overflow_x": null,
            "overflow_y": null,
            "padding": null,
            "right": null,
            "top": null,
            "visibility": null,
            "width": null
          }
        },
        "e5d189203e15435a8a65bb3c129655a4": {
          "model_module": "@jupyter-widgets/base",
          "model_name": "LayoutModel",
          "model_module_version": "1.2.0",
          "state": {
            "_model_module": "@jupyter-widgets/base",
            "_model_module_version": "1.2.0",
            "_model_name": "LayoutModel",
            "_view_count": null,
            "_view_module": "@jupyter-widgets/base",
            "_view_module_version": "1.2.0",
            "_view_name": "LayoutView",
            "align_content": null,
            "align_items": null,
            "align_self": null,
            "border": null,
            "bottom": null,
            "display": null,
            "flex": null,
            "flex_flow": null,
            "grid_area": null,
            "grid_auto_columns": null,
            "grid_auto_flow": null,
            "grid_auto_rows": null,
            "grid_column": null,
            "grid_gap": null,
            "grid_row": null,
            "grid_template_areas": null,
            "grid_template_columns": null,
            "grid_template_rows": null,
            "height": null,
            "justify_content": null,
            "justify_items": null,
            "left": null,
            "margin": null,
            "max_height": null,
            "max_width": null,
            "min_height": null,
            "min_width": null,
            "object_fit": null,
            "object_position": null,
            "order": null,
            "overflow": null,
            "overflow_x": null,
            "overflow_y": null,
            "padding": null,
            "right": null,
            "top": null,
            "visibility": null,
            "width": null
          }
        },
        "59a811aeb982456885a5a1e1a15d796c": {
          "model_module": "@jupyter-widgets/controls",
          "model_name": "DescriptionStyleModel",
          "model_module_version": "1.5.0",
          "state": {
            "_model_module": "@jupyter-widgets/controls",
            "_model_module_version": "1.5.0",
            "_model_name": "DescriptionStyleModel",
            "_view_count": null,
            "_view_module": "@jupyter-widgets/base",
            "_view_module_version": "1.2.0",
            "_view_name": "StyleView",
            "description_width": ""
          }
        },
        "1764359d9993475daebe5957f426aa1a": {
          "model_module": "@jupyter-widgets/base",
          "model_name": "LayoutModel",
          "model_module_version": "1.2.0",
          "state": {
            "_model_module": "@jupyter-widgets/base",
            "_model_module_version": "1.2.0",
            "_model_name": "LayoutModel",
            "_view_count": null,
            "_view_module": "@jupyter-widgets/base",
            "_view_module_version": "1.2.0",
            "_view_name": "LayoutView",
            "align_content": null,
            "align_items": null,
            "align_self": null,
            "border": null,
            "bottom": null,
            "display": null,
            "flex": null,
            "flex_flow": null,
            "grid_area": null,
            "grid_auto_columns": null,
            "grid_auto_flow": null,
            "grid_auto_rows": null,
            "grid_column": null,
            "grid_gap": null,
            "grid_row": null,
            "grid_template_areas": null,
            "grid_template_columns": null,
            "grid_template_rows": null,
            "height": null,
            "justify_content": null,
            "justify_items": null,
            "left": null,
            "margin": null,
            "max_height": null,
            "max_width": null,
            "min_height": null,
            "min_width": null,
            "object_fit": null,
            "object_position": null,
            "order": null,
            "overflow": null,
            "overflow_x": null,
            "overflow_y": null,
            "padding": null,
            "right": null,
            "top": null,
            "visibility": null,
            "width": null
          }
        },
        "ab9f573bf5b048a2b9d7ab1c49422558": {
          "model_module": "@jupyter-widgets/controls",
          "model_name": "ButtonStyleModel",
          "model_module_version": "1.5.0",
          "state": {
            "_model_module": "@jupyter-widgets/controls",
            "_model_module_version": "1.5.0",
            "_model_name": "ButtonStyleModel",
            "_view_count": null,
            "_view_module": "@jupyter-widgets/base",
            "_view_module_version": "1.2.0",
            "_view_name": "StyleView",
            "button_color": null,
            "font_weight": ""
          }
        },
        "37399197da794785b440144539db2f4e": {
          "model_module": "@jupyter-widgets/controls",
          "model_name": "VBoxModel",
          "model_module_version": "1.5.0",
          "state": {
            "_dom_classes": [],
            "_model_module": "@jupyter-widgets/controls",
            "_model_module_version": "1.5.0",
            "_model_name": "VBoxModel",
            "_view_count": null,
            "_view_module": "@jupyter-widgets/controls",
            "_view_module_version": "1.5.0",
            "_view_name": "VBoxView",
            "box_style": "",
            "children": [
              "IPY_MODEL_3bf495bf80cd48d9bb48d748ef0c4d5c",
              "IPY_MODEL_666c59ccce4d4ad0897d93192c197070"
            ],
            "layout": "IPY_MODEL_d1139f5a76b245668a3cecf42f98c39f"
          }
        },
        "3bf495bf80cd48d9bb48d748ef0c4d5c": {
          "model_module": "@jupyter-widgets/controls",
          "model_name": "TextModel",
          "model_module_version": "1.5.0",
          "state": {
            "_dom_classes": [],
            "_model_module": "@jupyter-widgets/controls",
            "_model_module_version": "1.5.0",
            "_model_name": "TextModel",
            "_view_count": null,
            "_view_module": "@jupyter-widgets/controls",
            "_view_module_version": "1.5.0",
            "_view_name": "TextView",
            "continuous_update": true,
            "description": "worried",
            "description_tooltip": null,
            "disabled": false,
            "layout": "IPY_MODEL_0af3cfa2c2e44614b9e8d0db66951ac5",
            "placeholder": "​",
            "style": "IPY_MODEL_89146354ac294e1bbb1e51a9a089c668",
            "value": ""
          }
        },
        "666c59ccce4d4ad0897d93192c197070": {
          "model_module": "@jupyter-widgets/controls",
          "model_name": "ButtonModel",
          "model_module_version": "1.5.0",
          "state": {
            "_dom_classes": [],
            "_model_module": "@jupyter-widgets/controls",
            "_model_module_version": "1.5.0",
            "_model_name": "ButtonModel",
            "_view_count": null,
            "_view_module": "@jupyter-widgets/controls",
            "_view_module_version": "1.5.0",
            "_view_name": "ButtonView",
            "button_style": "",
            "description": "Check Answer",
            "disabled": false,
            "icon": "",
            "layout": "IPY_MODEL_93f064ab55ff458dae0ce1da1b34217b",
            "style": "IPY_MODEL_a84fb4e03a1e44f6839feaf5bb401ca6",
            "tooltip": ""
          }
        },
        "d1139f5a76b245668a3cecf42f98c39f": {
          "model_module": "@jupyter-widgets/base",
          "model_name": "LayoutModel",
          "model_module_version": "1.2.0",
          "state": {
            "_model_module": "@jupyter-widgets/base",
            "_model_module_version": "1.2.0",
            "_model_name": "LayoutModel",
            "_view_count": null,
            "_view_module": "@jupyter-widgets/base",
            "_view_module_version": "1.2.0",
            "_view_name": "LayoutView",
            "align_content": null,
            "align_items": null,
            "align_self": null,
            "border": null,
            "bottom": null,
            "display": null,
            "flex": null,
            "flex_flow": null,
            "grid_area": null,
            "grid_auto_columns": null,
            "grid_auto_flow": null,
            "grid_auto_rows": null,
            "grid_column": null,
            "grid_gap": null,
            "grid_row": null,
            "grid_template_areas": null,
            "grid_template_columns": null,
            "grid_template_rows": null,
            "height": null,
            "justify_content": null,
            "justify_items": null,
            "left": null,
            "margin": null,
            "max_height": null,
            "max_width": null,
            "min_height": null,
            "min_width": null,
            "object_fit": null,
            "object_position": null,
            "order": null,
            "overflow": null,
            "overflow_x": null,
            "overflow_y": null,
            "padding": null,
            "right": null,
            "top": null,
            "visibility": null,
            "width": null
          }
        },
        "0af3cfa2c2e44614b9e8d0db66951ac5": {
          "model_module": "@jupyter-widgets/base",
          "model_name": "LayoutModel",
          "model_module_version": "1.2.0",
          "state": {
            "_model_module": "@jupyter-widgets/base",
            "_model_module_version": "1.2.0",
            "_model_name": "LayoutModel",
            "_view_count": null,
            "_view_module": "@jupyter-widgets/base",
            "_view_module_version": "1.2.0",
            "_view_name": "LayoutView",
            "align_content": null,
            "align_items": null,
            "align_self": null,
            "border": null,
            "bottom": null,
            "display": null,
            "flex": null,
            "flex_flow": null,
            "grid_area": null,
            "grid_auto_columns": null,
            "grid_auto_flow": null,
            "grid_auto_rows": null,
            "grid_column": null,
            "grid_gap": null,
            "grid_row": null,
            "grid_template_areas": null,
            "grid_template_columns": null,
            "grid_template_rows": null,
            "height": null,
            "justify_content": null,
            "justify_items": null,
            "left": null,
            "margin": null,
            "max_height": null,
            "max_width": null,
            "min_height": null,
            "min_width": null,
            "object_fit": null,
            "object_position": null,
            "order": null,
            "overflow": null,
            "overflow_x": null,
            "overflow_y": null,
            "padding": null,
            "right": null,
            "top": null,
            "visibility": null,
            "width": null
          }
        },
        "89146354ac294e1bbb1e51a9a089c668": {
          "model_module": "@jupyter-widgets/controls",
          "model_name": "DescriptionStyleModel",
          "model_module_version": "1.5.0",
          "state": {
            "_model_module": "@jupyter-widgets/controls",
            "_model_module_version": "1.5.0",
            "_model_name": "DescriptionStyleModel",
            "_view_count": null,
            "_view_module": "@jupyter-widgets/base",
            "_view_module_version": "1.2.0",
            "_view_name": "StyleView",
            "description_width": ""
          }
        },
        "93f064ab55ff458dae0ce1da1b34217b": {
          "model_module": "@jupyter-widgets/base",
          "model_name": "LayoutModel",
          "model_module_version": "1.2.0",
          "state": {
            "_model_module": "@jupyter-widgets/base",
            "_model_module_version": "1.2.0",
            "_model_name": "LayoutModel",
            "_view_count": null,
            "_view_module": "@jupyter-widgets/base",
            "_view_module_version": "1.2.0",
            "_view_name": "LayoutView",
            "align_content": null,
            "align_items": null,
            "align_self": null,
            "border": null,
            "bottom": null,
            "display": null,
            "flex": null,
            "flex_flow": null,
            "grid_area": null,
            "grid_auto_columns": null,
            "grid_auto_flow": null,
            "grid_auto_rows": null,
            "grid_column": null,
            "grid_gap": null,
            "grid_row": null,
            "grid_template_areas": null,
            "grid_template_columns": null,
            "grid_template_rows": null,
            "height": null,
            "justify_content": null,
            "justify_items": null,
            "left": null,
            "margin": null,
            "max_height": null,
            "max_width": null,
            "min_height": null,
            "min_width": null,
            "object_fit": null,
            "object_position": null,
            "order": null,
            "overflow": null,
            "overflow_x": null,
            "overflow_y": null,
            "padding": null,
            "right": null,
            "top": null,
            "visibility": null,
            "width": null
          }
        },
        "a84fb4e03a1e44f6839feaf5bb401ca6": {
          "model_module": "@jupyter-widgets/controls",
          "model_name": "ButtonStyleModel",
          "model_module_version": "1.5.0",
          "state": {
            "_model_module": "@jupyter-widgets/controls",
            "_model_module_version": "1.5.0",
            "_model_name": "ButtonStyleModel",
            "_view_count": null,
            "_view_module": "@jupyter-widgets/base",
            "_view_module_version": "1.2.0",
            "_view_name": "StyleView",
            "button_color": null,
            "font_weight": ""
          }
        }
      }
    }
  },
  "cells": [
    {
      "cell_type": "markdown",
      "metadata": {
        "id": "view-in-github",
        "colab_type": "text"
      },
      "source": [
        "<a href=\"https://colab.research.google.com/github/MsMc24/G1-finalproject/blob/main/synonym_matching_MiranCodes.ipynb\" target=\"_parent\"><img src=\"https://colab.research.google.com/assets/colab-badge.svg\" alt=\"Open In Colab\"/></a>"
      ]
    },
    {
      "cell_type": "markdown",
      "source": [
        "# Synonym matching application"
      ],
      "metadata": {
        "id": "g3upum2Psg53"
      }
    },
    {
      "cell_type": "markdown",
      "source": [
        "## [1] Original code from Megan\n",
        "\n",
        "=> To make an interactive application, you always need either 'graio' or similar libraries. See the code below for my final implementation."
      ],
      "metadata": {
        "id": "3aQL425asjC2"
      }
    },
    {
      "cell_type": "code",
      "execution_count": 1,
      "metadata": {
        "id": "sVlBX9FDaS1S",
        "colab": {
          "base_uri": "https://localhost:8080/",
          "height": 162,
          "referenced_widgets": [
            "41dd58c369b04a94809af611283db9ca",
            "e87e2c81d4c345888ce16af5abd951a3",
            "d79f89a13d75447b856a754d4fbc54aa",
            "cc5539469e2145b39d3af5ca170774b3",
            "e5d189203e15435a8a65bb3c129655a4",
            "59a811aeb982456885a5a1e1a15d796c",
            "1764359d9993475daebe5957f426aa1a",
            "ab9f573bf5b048a2b9d7ab1c49422558",
            "37399197da794785b440144539db2f4e",
            "3bf495bf80cd48d9bb48d748ef0c4d5c",
            "666c59ccce4d4ad0897d93192c197070",
            "d1139f5a76b245668a3cecf42f98c39f",
            "0af3cfa2c2e44614b9e8d0db66951ac5",
            "89146354ac294e1bbb1e51a9a089c668",
            "93f064ab55ff458dae0ce1da1b34217b",
            "a84fb4e03a1e44f6839feaf5bb401ca6"
          ]
        },
        "outputId": "585ce291-1ace-40c3-c57a-03f08da52c2c"
      },
      "outputs": [
        {
          "output_type": "display_data",
          "data": {
            "text/plain": [
              "VBox(children=(Text(value='', description='colorful'), Button(description='Check Answer', style=ButtonStyle())…"
            ],
            "application/vnd.jupyter.widget-view+json": {
              "version_major": 2,
              "version_minor": 0,
              "model_id": "41dd58c369b04a94809af611283db9ca"
            }
          },
          "metadata": {}
        },
        {
          "output_type": "stream",
          "name": "stdout",
          "text": [
            "Correct!\n"
          ]
        },
        {
          "output_type": "display_data",
          "data": {
            "text/plain": [
              "VBox(children=(Text(value='', description='worried'), Button(description='Check Answer', style=ButtonStyle()))…"
            ],
            "application/vnd.jupyter.widget-view+json": {
              "version_major": 2,
              "version_minor": 0,
              "model_id": "37399197da794785b440144539db2f4e"
            }
          },
          "metadata": {}
        }
      ],
      "source": [
        "# Import libraries\n",
        "from ipywidgets import Text, Button, VBox\n",
        "\n",
        "# Define questions and answers\n",
        "questions = [\"colorful\", \"worried\", \"excited\", \"showing\", \"respected\", \"doubters\", \"success\" ]\n",
        "answers = [\"vibrant\", \"anxious\", \"thrilled\", \"depicting\", \"admired\", \"skeptics\", \"achievement\"]\n",
        "\n",
        "# Initialize variables\n",
        "score = 0\n",
        "current_question = 0\n",
        "\n",
        "# Define functions\n",
        "def display_question():\n",
        "    global current_question\n",
        "    question_widget = Text(description=questions[current_question])\n",
        "    check_button = Button(description=\"Check Answer\")\n",
        "\n",
        "    def check_answer(b):\n",
        "        global current_question, score\n",
        "        if question_widget.value.lower() == answers[current_question].lower():\n",
        "            score += 1\n",
        "            print(\"Correct!\")\n",
        "        else:\n",
        "            print(\"Incorrect. The correct answer is\", answers[current_question])\n",
        "        current_question += 1\n",
        "        if current_question < len(questions):\n",
        "            display_question()\n",
        "        else:\n",
        "            print(\"Check how you did. Your score is\", score, \"out of\", len(questions))\n",
        "\n",
        "    check_button.on_click(check_answer)\n",
        "\n",
        "    display(VBox([question_widget, check_button]))\n",
        "\n",
        "# Let's match synonyms\n",
        "display_question()"
      ]
    },
    {
      "cell_type": "markdown",
      "source": [
        "# Miran versioin\n",
        "\n",
        "1. To test on Clab, you need to install 'graio'\n",
        "2. I revised the code to show 4 options so that the learner can choose one of them, but still practice typing.\n",
        "3. The final score will appear when the user click 'Complete and see the score'\n",
        "4. If the user try the same one"
      ],
      "metadata": {
        "id": "BNS6jdikeimH"
      }
    },
    {
      "cell_type": "code",
      "source": [
        "%%capture\n",
        "!pip install gradio"
      ],
      "metadata": {
        "id": "zRBIvSojelAP"
      },
      "execution_count": null,
      "outputs": []
    },
    {
      "cell_type": "markdown",
      "source": [
        "# this works!"
      ],
      "metadata": {
        "id": "V0lZ3Lp4r1dl"
      }
    },
    {
      "cell_type": "markdown",
      "source": [
        "# Miran's message: This is the final code. You don't need requirements.txt file for this application because it only uses 'gradio' which is set when you create a Space."
      ],
      "metadata": {
        "id": "BJDfXk60vj3h"
      }
    },
    {
      "cell_type": "markdown",
      "source": [
        "# This is the final code"
      ],
      "metadata": {
        "id": "FudI6PLwxo6A"
      }
    },
    {
      "cell_type": "code",
      "source": [
        "import gradio as gr\n",
        "import random\n",
        "\n",
        "# Define questions and answers\n",
        "questions = [\"colorful\", \"worried\", \"excited\", \"showing\", \"respected\", \"doubters\", \"success\"]\n",
        "answers = [\"vibrant\", \"anxious\", \"thrilled\", \"depicting\", \"admired\", \"skeptics\", \"achievement\"]\n",
        "\n",
        "answered_questions = set()  # Track which questions have been correctly answered\n",
        "\n",
        "def get_options(question):\n",
        "    index = questions.index(question)\n",
        "    correct_answer = answers[index]\n",
        "    options = set([correct_answer])\n",
        "    while len(options) < 4:\n",
        "        options.add(random.choice(answers))\n",
        "    options = list(options)\n",
        "    random.shuffle(options)\n",
        "    return \", \".join(options), correct_answer, index\n",
        "\n",
        "def check_answer(user_input, correct_answer, question_index):\n",
        "    if question_index in answered_questions:\n",
        "        return \"Correct! You have already answered this question correctly.\", 0\n",
        "    if user_input.strip().lower() == correct_answer.lower():\n",
        "        feedback = \"Correct!\"\n",
        "        score = 1\n",
        "        answered_questions.add(question_index)  # Only add to answered if correct\n",
        "    else:\n",
        "        feedback = f\"Incorrect. The correct answer was '{correct_answer}'.\"\n",
        "        score = 0\n",
        "    return feedback, score\n",
        "\n",
        "with gr.Blocks() as app:\n",
        "    with gr.Row():\n",
        "        question_dropdown = gr.Dropdown(choices=questions, label=\"Select a question\")\n",
        "        show_options_button = gr.Button(\"Show me options\")\n",
        "    options_output = gr.Textbox(label=\"Options\", interactive=False)\n",
        "    correct_answer_store = gr.State()\n",
        "    question_index_store = gr.State()\n",
        "    user_input = gr.Textbox(label=\"Type your answer here\", visible=True)\n",
        "    submit_button = gr.Button(\"Submit Answer\", visible=True)\n",
        "    feedback_label = gr.Label()\n",
        "    score_store = gr.State(value=0)\n",
        "    complete_button = gr.Button(\"Complete and Show Total Score\", visible=True)\n",
        "\n",
        "    def show_options(question):\n",
        "        options, correct, index = get_options(question)\n",
        "        options_output.value = options\n",
        "        correct_answer_store.value = correct\n",
        "        question_index_store.value = index\n",
        "        return options, correct, index\n",
        "\n",
        "    show_options_button.click(\n",
        "        fn=show_options,\n",
        "        inputs=[question_dropdown],\n",
        "        outputs=[options_output, correct_answer_store, question_index_store]\n",
        "    )\n",
        "\n",
        "    submit_button.click(\n",
        "        fn=lambda user_input, correct_answer_store=correct_answer_store, question_index_store=question_index_store, score_store=score_store: submit_response(user_input, correct_answer_store.value, question_index_store.value, score_store),\n",
        "        inputs=user_input,\n",
        "        outputs=[feedback_label, score_store]\n",
        "    )\n",
        "\n",
        "    def submit_response(user_input, correct_answer, question_index, score_store):\n",
        "        feedback, score = check_answer(user_input, correct_answer, question_index)\n",
        "        if score == 1:\n",
        "            score_store.value += score  # Only accumulate the score if it's a new correct answer\n",
        "        return feedback, score_store.value\n",
        "\n",
        "    def complete_and_reset(score_store):\n",
        "        final_score = score_store.value\n",
        "        score_store.value = 0  # Reset the score\n",
        "        answered_questions.clear()  # Clear the set of answered questions\n",
        "        return f\"Session Complete. Your final score is {final_score}.\"\n",
        "\n",
        "    complete_button.click(\n",
        "        fn=lambda score_store=score_store: complete_and_reset(score_store),\n",
        "        inputs=[],\n",
        "        outputs=feedback_label\n",
        "    )\n",
        "\n",
        "app.launch()\n"
      ],
      "metadata": {
        "colab": {
          "base_uri": "https://localhost:8080/",
          "height": 625
        },
        "id": "tdyEseYhzdds",
        "outputId": "ca869c49-85fc-43f4-983b-18eeb43b9ab7"
      },
      "execution_count": 55,
      "outputs": [
        {
          "output_type": "stream",
          "name": "stdout",
          "text": [
            "Setting queue=True in a Colab notebook requires sharing enabled. Setting `share=True` (you can turn this off by setting `share=False` in `launch()` explicitly).\n",
            "\n",
            "Colab notebook detected. To show errors in colab notebook, set debug=True in launch()\n",
            "Running on public URL: https://b6b5d4a97e93a810ef.gradio.live\n",
            "\n",
            "This share link expires in 72 hours. For free permanent hosting and GPU upgrades, run `gradio deploy` from Terminal to deploy to Spaces (https://huggingface.co/spaces)\n"
          ]
        },
        {
          "output_type": "display_data",
          "data": {
            "text/plain": [
              "<IPython.core.display.HTML object>"
            ],
            "text/html": [
              "<div><iframe src=\"https://b6b5d4a97e93a810ef.gradio.live\" width=\"100%\" height=\"500\" allow=\"autoplay; camera; microphone; clipboard-read; clipboard-write;\" frameborder=\"0\" allowfullscreen></iframe></div>"
            ]
          },
          "metadata": {}
        },
        {
          "output_type": "execute_result",
          "data": {
            "text/plain": []
          },
          "metadata": {},
          "execution_count": 55
        }
      ]
    }
  ]
}