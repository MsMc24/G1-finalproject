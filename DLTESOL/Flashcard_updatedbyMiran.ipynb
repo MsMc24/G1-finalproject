{
  "cells": [
    {
      "cell_type": "markdown",
      "metadata": {
        "id": "view-in-github",
        "colab_type": "text"
      },
      "source": [
        "<a href=\"https://colab.research.google.com/github/MsMc24/G1-finalproject/blob/main/DLTESOL/Flashcard_updatedbyMiran.ipynb\" target=\"_parent\"><img src=\"https://colab.research.google.com/assets/colab-badge.svg\" alt=\"Open In Colab\"/></a>"
      ]
    },
    {
      "cell_type": "markdown",
      "metadata": {
        "id": "OAAlvW8xZWwH"
      },
      "source": [
        "1. vibrant (adj)\n",
        "2. achievement (n)\n",
        "3. depicting (v)\n",
        "4. admired (v)\n",
        "5. anxious (adj)\n",
        "6. thrilled (adj)\n",
        "7. skeptics (n)"
      ]
    },
    {
      "cell_type": "markdown",
      "source": [
        "## Miran message: The following lines are removed since it is already installed in the above code. Also, %%capture means \"hide the output\", so you can't use it to get the output in the code below.\n",
        "```\n",
        "%%capture\n",
        "!pip install ipywidgets\n",
        "```"
      ],
      "metadata": {
        "id": "MTDBc-sMy55Z"
      }
    },
    {
      "cell_type": "markdown",
      "source": [
        "## Miran's code"
      ],
      "metadata": {
        "id": "vXftYh9k0CLU"
      }
    },
    {
      "cell_type": "code",
      "source": [
        "%%capture\n",
        "!pip install gradio gtts ipywidgets"
      ],
      "metadata": {
        "id": "52KtPJqI-mBD"
      },
      "execution_count": 2,
      "outputs": []
    },
    {
      "cell_type": "code",
      "source": [
        "import gradio as gr\n",
        "from gtts import gTTS\n",
        "from PIL import Image\n",
        "import requests\n",
        "from io import BytesIO\n",
        "\n",
        "# Manually add definitions\n",
        "word_definitions = {\n",
        "    \"vibrant\": \"Full of energy or colorful\",\n",
        "    \"dismissed\": \"Sent away or rejected\",\n",
        "    \"depicting\": \"Showing or representing\",\n",
        "    \"admired\": \"Regarded with respect.\",\n",
        "    \"anxious\": \"worried or nervous.\",\n",
        "    \"skeptics\": \"people who question or doubt.\",\n",
        "    \"achievement\": \"success\",\n",
        "    \"thrilled\": \"excitement and happiness\"\n",
        "}\n",
        "\n",
        "# Corresponding image URLs (example URLs, replace with actual GitHub links)\n",
        "image_urls = {\n",
        "    \"vibrant\": \"https://github.com/MK316/Spring2024/raw/main/DLTESOL/project/flashcard.001.png\",\n",
        "    \"dismissed\": \"https://github.com/MK316/Spring2024/raw/main/DLTESOL/project/flashcard.002.png\",\n",
        "    \"depicting\": \"https://github.com/MK316/Spring2024/raw/main/DLTESOL/project/flashcard.003.png\",\n",
        "    \"admired\": \"https://github.com/MK316/Spring2024/raw/main/DLTESOL/project/flashcard.004.png\",\n",
        "    \"anxious\": \"https://github.com/MK316/Spring2024/raw/main/DLTESOL/project/flashcard.005.png\",\n",
        "    \"skeptics\": \"https://github.com/MK316/Spring2024/raw/main/DLTESOL/project/flashcard.006.png\",\n",
        "    \"achievement\": \"https://github.com/MK316/Spring2024/raw/main/DLTESOL/project/flashcard.007.png\",\n",
        "    \"thrilled\": \"https://github.com/MK316/Spring2024/raw/main/DLTESOL/project/flashcard.008.png\"\n",
        "}\n",
        "\n",
        "def generate_output(word):\n",
        "    definition = word + \".\" + \"It means\" + word_definitions[word]\n",
        "\n",
        "    # Get the image\n",
        "    image_url = image_urls[word]\n",
        "    response = requests.get(image_url)\n",
        "    img = Image.open(BytesIO(response.content))\n",
        "    img = img.resize((400, 250))  # Resize to half size\n",
        "\n",
        "    # Generate the audio\n",
        "    tts = gTTS(text=definition, lang='en', tld='co.uk', slow=False)\n",
        "    audio_file = f\"{word}.mp3\"\n",
        "    tts.save(audio_file)\n",
        "\n",
        "    return img, audio_file\n",
        "\n",
        "# Create the Gradio interface\n",
        "iface = gr.Interface(\n",
        "    fn=generate_output,\n",
        "    inputs=gr.Dropdown(choices=list(word_definitions.keys()), label=\"Choose a word\"),\n",
        "    outputs=[gr.Image(type=\"pil\"), gr.Audio(type=\"filepath\", autoplay=True)],\n",
        "    title=\"Word Definition with Image and Audio\"\n",
        ")\n",
        "\n",
        "# Launch the interface\n",
        "iface.launch(debug=True)\n"
      ],
      "metadata": {
        "id": "YIBtQoE3_W-G",
        "outputId": "3a15194b-9328-4b3c-ab8e-c492452a7d9b",
        "colab": {
          "base_uri": "https://localhost:8080/",
          "height": 660
        }
      },
      "execution_count": 22,
      "outputs": [
        {
          "output_type": "stream",
          "name": "stdout",
          "text": [
            "Setting queue=True in a Colab notebook requires sharing enabled. Setting `share=True` (you can turn this off by setting `share=False` in `launch()` explicitly).\n",
            "\n",
            "Colab notebook detected. This cell will run indefinitely so that you can see errors and logs. To turn off, set debug=False in launch().\n",
            "Running on public URL: https://e4a50bf9a175353437.gradio.live\n",
            "\n",
            "This share link expires in 72 hours. For free permanent hosting and GPU upgrades, run `gradio deploy` from Terminal to deploy to Spaces (https://huggingface.co/spaces)\n"
          ]
        },
        {
          "output_type": "display_data",
          "data": {
            "text/plain": [
              "<IPython.core.display.HTML object>"
            ],
            "text/html": [
              "<div><iframe src=\"https://e4a50bf9a175353437.gradio.live\" width=\"100%\" height=\"500\" allow=\"autoplay; camera; microphone; clipboard-read; clipboard-write;\" frameborder=\"0\" allowfullscreen></iframe></div>"
            ]
          },
          "metadata": {}
        },
        {
          "output_type": "stream",
          "name": "stdout",
          "text": [
            "Keyboard interruption in main thread... closing server.\n",
            "Killing tunnel 127.0.0.1:7861 <> https://e4a50bf9a175353437.gradio.live\n"
          ]
        },
        {
          "output_type": "execute_result",
          "data": {
            "text/plain": []
          },
          "metadata": {},
          "execution_count": 22
        }
      ]
    }
  ],
  "metadata": {
    "colab": {
      "provenance": [],
      "include_colab_link": true
    },
    "kernelspec": {
      "display_name": "Python 3",
      "name": "python3"
    },
    "language_info": {
      "name": "python"
    }
  },
  "nbformat": 4,
  "nbformat_minor": 0
}