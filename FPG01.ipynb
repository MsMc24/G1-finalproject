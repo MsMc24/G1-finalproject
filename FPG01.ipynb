{
  "nbformat": 4,
  "nbformat_minor": 0,
  "metadata": {
    "colab": {
      "private_outputs": true,
      "provenance": [],
      "include_colab_link": true
    },
    "kernelspec": {
      "name": "python3",
      "display_name": "Python 3"
    },
    "language_info": {
      "name": "python"
    }
  },
  "cells": [
    {
      "cell_type": "markdown",
      "metadata": {
        "id": "view-in-github",
        "colab_type": "text"
      },
      "source": [
        "<a href=\"https://colab.research.google.com/github/MsMc24/G1-finalproject/blob/main/FPG01.ipynb\" target=\"_parent\"><img src=\"https://colab.research.google.com/assets/colab-badge.svg\" alt=\"Open In Colab\"/></a>"
      ]
    },
    {
      "cell_type": "markdown",
      "source": [
        "# 🌱**Group 1 Final Project (6/11)**\n",
        "\n",
        "+ Reading material: 💾 [text link](https://raw.githubusercontent.com/MK316/Spring2024/main/DLTESOL/project/story01.txt)\n",
        "\n",
        "##👩🏼‍🏫👩🏼‍🏫👩🏼‍🏫 Learning objectives:\n",
        "+ objective 1: By the end of the class, Ss will be able to listen for specific information in a story.\n",
        "+ objective 1: By the end of the class, Ss will be able to identify new vocabulary and its meaning.\n",
        "+ objective 1: By the end of the class, Ss will be able to generate an image using their own descriptive words."
      ],
      "metadata": {
        "id": "3EGZDlOvWSAf"
      }
    },
    {
      "cell_type": "code",
      "source": [
        "%%capture\n",
        "!pip install wordcloud matplotlib gradio gtts nltk pyqrcode"
      ],
      "metadata": {
        "id": "8kX_nwp3FKc5"
      },
      "execution_count": null,
      "outputs": []
    },
    {
      "cell_type": "markdown",
      "source": [
        "#☁️☁️☁️Wordcloud -  Let's Predict the story looking at key words in the cloud and by looking at the pictures below.\n",
        "Directions:\n",
        "1. The teacher will create the wordcloud for the class on the computer screen.\n",
        "\n",
        "![](https://drive.google.com/uc?export=view&id=1m45srgoxxsjQvL1ZT-5yEnypNPcVwPRh)\n",
        "\n",
        "\n"
      ],
      "metadata": {
        "id": "p-dFG7zZtYLn"
      }
    },
    {
      "cell_type": "code",
      "source": [
        "import matplotlib.pyplot as plt\n",
        "from wordcloud import WordCloud\n",
        "\n",
        "# The provided text\n",
        "text = \"\"\"\n",
        "The Tree of Dreams\n",
        "\n",
        "Once in the small, vibrant village of Lila, there stood an ancient tree known as the \"Tree of Dreams.\" The villagers believed that if anyone whispered their dreams to the tree, the dreams would come true. However, most adults dismissed this as an old tale, meant only to amuse children. Among the villagers was a young girl named Maria. She was a bright, curious eighth grader with a passion for art. Maria loved to draw and paint, but her family was poor, and they couldnt afford art supplies. Despite this, Maria used whatever she could find — leaves, petals, and even coal pieces, to create her art.\n",
        "\n",
        "One day, her art teacher, Mr. Lopez, noticed her talent and encouraged her to enter a national art competition. The winner would receive a scholarship to attend any art school of their choice. Maria was thrilled but also worried about not having professional art supplies to create a competition-worthy piece. Recalling the legend of the Tree of Dreams, Maria decided to visit it. Under the moonlit sky, she whispered to the tree, \"Please help me find a way to show my best in the art competition.\" The next morning, something wonderful happened. Mr. Lopez announced that the school had received a donation of art supplies, and he handed Maria a set of paints and brushes. Overjoyed and grateful, Maria worked day and night, pouring her heart into her artwork. When the day of the competition arrived, Maria submitted a beautiful painting depicting the Tree of Dreams under a starry sky, vibrant and full of life. Her artwork was admired by all for its creativity and the story it told.\n",
        "\n",
        "After a week of anxious waiting, the results were announced. Maria had won the first place! Her dream was coming true. She was going to receive a scholarship to study art. The whole village celebrated Maria's success, and even the skeptics began to see the Tree of Dreams in a new light. Marias victory was more than just a personal achievement; it inspired the entire village. Children and adults alike started to believe in their dreams and work towards them, sharing them with the ancient tree that stood proudly in their midst. Maria continued to grow as an artist, always remembering the tree that once gave her hope. She learned that with belief, hard work, and a little bit of magic, dreams really can come true. And so, the Tree of Dreams stood not only as a symbol of Marias success but as a beacon of hope for everyone in Lila, reminding them that sometimes, the oldest stories hold the deepest truths.\n",
        "\"\"\"\n",
        "\n",
        "# Generate the word cloud\n",
        "wordcloud = WordCloud(width=800, height=400, background_color='white').generate(text)\n",
        "\n",
        "# Display the word cloud using matplotlib\n",
        "plt.figure(figsize=(10, 5))\n",
        "plt.imshow(wordcloud, interpolation='bilinear')\n",
        "plt.axis('off')  # Do not show axes for a cleaner look\n",
        "plt.show()\n"
      ],
      "metadata": {
        "id": "kKabMyMkua4U"
      },
      "execution_count": null,
      "outputs": []
    },
    {
      "cell_type": "markdown",
      "source": [
        "#🎯🎯🎯Look at the Target Vocabulary\n",
        "*Let's look up the meaning of any target words we might not know*\n",
        "\n",
        "All of these words related to our dreams and feelings we or others might have about our dreams.\n",
        "\n",
        "**Directions:**\n",
        "\n",
        "1. Type in the word in the blank box that will appear below once you run the code.\n",
        "2. The definition and part of speech will display.\n",
        "----\n",
        "1. vibrant (adj)\n",
        "2. depicting (v)\n",
        "3. admired (v)\n",
        "4. anxious (adj)\n",
        "5. skeptics (n)\n",
        "6. achievement (n)\n",
        "7. dismissed (v)\n",
        "8. thrilled (adj)"
      ],
      "metadata": {
        "id": "mEHiVdB3uSaR"
      }
    },
    {
      "cell_type": "code",
      "source": [
        "%%capture\n",
        "pip install PyDictionary\n"
      ],
      "metadata": {
        "id": "ddt_2cCPuopz"
      },
      "execution_count": null,
      "outputs": []
    },
    {
      "cell_type": "code",
      "source": [
        "from PyDictionary import PyDictionary\n",
        "import requests\n",
        "\n",
        "def get_meaning(word):\n",
        "    # Using PyDictionary to get basic information\n",
        "    dictionary = PyDictionary()\n",
        "    meanings = dictionary.meaning(word)\n",
        "\n",
        "    if meanings:\n",
        "        print(f\"Definitions of '{word}':\")\n",
        "        for key, value in meanings.items():\n",
        "            print(f\"{key}: {', '.join(value)}\")\n",
        "    else:\n",
        "        print(f\"No definitions found for '{word}'\")\n",
        "\n",
        "\n",
        "# Example usage\n",
        "word_to_lookup = input(\"Enter a word to look up: \")\n",
        "get_meaning(word_to_lookup)"
      ],
      "metadata": {
        "id": "fwBt4gh1FiHX"
      },
      "execution_count": null,
      "outputs": []
    },
    {
      "cell_type": "markdown",
      "source": [
        "#🥰🥰🥰Now check how to pronounce these new words!\n",
        "*Let's learn how to pronounce together*\n",
        "\n",
        "Directions:\n",
        "\n",
        "1. type the word that you want to hear in the box that appears below once you run the code.\n",
        "2. Hit enter.\n",
        "3. The word will play aloud."
      ],
      "metadata": {
        "id": "U4Gcak0HIG_F"
      }
    },
    {
      "cell_type": "code",
      "source": [
        "%%capture\n",
        "!pip install gtts ipywidgets\n"
      ],
      "metadata": {
        "id": "lEXVvzWJHZcJ"
      },
      "execution_count": null,
      "outputs": []
    },
    {
      "cell_type": "code",
      "source": [
        "from gtts import gTTS\n",
        "from IPython.display import Audio, display\n",
        "import ipywidgets as widgets\n",
        "from IPython.display import display as display_widget\n",
        "\n",
        "# Function to generate and play pronunciation\n",
        "def play_pronunciation(word):\n",
        "    # Create a gTTS object\n",
        "    tts = gTTS(text=word, lang='en')\n",
        "\n",
        "    # Save the audio to a file\n",
        "    tts.save(\"word_pronunciation.mp3\")\n",
        "\n",
        "    # Load and display the audio file\n",
        "    display(Audio(\"word_pronunciation.mp3\", autoplay=True))\n",
        "\n",
        "# Callback function for the button click event\n",
        "def on_button_click(b):\n",
        "    word = text_box.value\n",
        "    play_pronunciation(word)\n",
        "\n",
        "# Create a text box for input\n",
        "text_box = widgets.Text(\n",
        "    value='',\n",
        "    placeholder='Type a word',\n",
        "    description='Word:',\n",
        "    disabled=False\n",
        ")\n",
        "\n",
        "# Create a button\n",
        "button = widgets.Button(\n",
        "    description='Submit',\n",
        "    disabled=False,\n",
        "    button_style='',\n",
        "    tooltip='Click to submit word',\n",
        "    icon='check'\n",
        ")\n",
        "\n",
        "# Attach the callback function to the button\n",
        "button.on_click(on_button_click)\n",
        "\n",
        "# Display the text box and button\n",
        "display_widget(text_box)\n",
        "display_widget(button)\n"
      ],
      "metadata": {
        "id": "Ob0c3m2VG9zg"
      },
      "execution_count": null,
      "outputs": []
    },
    {
      "cell_type": "markdown",
      "source": [
        "#🤡🤡🤡Now Let's do a synonym activity to check if we can remember the meaning of our target vocabulary!\n",
        "\n",
        "Directions:\n",
        "1. Run the code and a the first synonym will appear below.\n",
        "2. Use the target vocabulary list.\n",
        "3. Each target vocabulary word is used once.\n",
        "4. type in lowercase\n",
        "5. type the word in the blank that matches the synonym that is shown.\n"
      ],
      "metadata": {
        "id": "BGYOcp-2vwvh"
      }
    },
    {
      "cell_type": "code",
      "source": [
        "# Import libraries\n",
        "from ipywidgets import Text, Button, VBox\n",
        "\n",
        "# Define questions and answers\n",
        "questions = [\"colorful\", \"worried\", \"excited\", \"showing\", \"sent away\", \"respected\", \"doubters\", \"success\" ]\n",
        "answers = [\"vibrant\", \"anxious\", \"thrilled\", \"depicting\", \"dismissed\", \"admired\", \"skeptics\", \"achievement\"]\n",
        "\n",
        "# Initialize variables\n",
        "score = 0\n",
        "current_question = 0\n",
        "\n",
        "# Define functions\n",
        "def display_question():\n",
        "    global current_question\n",
        "    question_widget = Text(description=questions[current_question])\n",
        "    check_button = Button(description=\"Check Answer\")\n",
        "\n",
        "    def check_answer(b):\n",
        "        global current_question, score\n",
        "        if question_widget.value.lower() == answers[current_question].lower():\n",
        "            score += 1\n",
        "            print(\"Correct!\")\n",
        "        else:\n",
        "            print(\"Incorrect. The correct answer is\", answers[current_question])\n",
        "        current_question += 1\n",
        "        if current_question < len(questions):\n",
        "            display_question()\n",
        "        else:\n",
        "            print(\"Check how you did. Your score is\", score, \"out of\", len(questions))\n",
        "\n",
        "    check_button.on_click(check_answer)\n",
        "\n",
        "    display(VBox([question_widget, check_button]))\n",
        "\n",
        "# Let's match synonyms\n",
        "display_question()"
      ],
      "metadata": {
        "id": "cn5QjyCmzvEm"
      },
      "execution_count": null,
      "outputs": []
    },
    {
      "cell_type": "markdown",
      "source": [
        "#🎧🎧🎧Time to listen to the story together and see if you guessed Maria's dream correctly!\n",
        "\n",
        "Directions:\n",
        "\n",
        "1. after running the code, copy the story into the blank at the bottom and hit enter.\n",
        "2. The story audio will start playing right away. If you need to pause, press pause.\n",
        "\n",
        "The Tree of Dreams 🌳🌳🌳\n",
        "\n",
        "Once in the small, vibrant village of Lila, there stood an ancient tree known as the \"Tree of Dreams.\" The villagers believed that if anyone whispered their dreams to the tree, the dreams would come true. However, most adults dismissed this as an old tale, meant only to amuse children.\n",
        "Among the villagers was a young girl named Maria. She was a bright, curious eighth grader with a passion for art. Maria loved to draw and paint, but her family was poor, and they couldnt afford art supplies. Despite this, Maria used whatever she could find — leaves, petals, and even coal pieces, to create her art.\n",
        "\n",
        "One day, her art teacher, Mr. Lopez, noticed her talent and encouraged her to enter a national art competition. The winner would receive a scholarship to attend any art school of their choice. Maria was thrilled but also worried about not having professional art supplies to create a competition-worthy piece.\n",
        "Recalling the legend of the Tree of Dreams, Maria decided to visit it. Under the moonlit sky, she whispered to the tree, \"Please help me find a way to show my best in the art competition.\"\n",
        "The next morning, something wonderful happened. Mr. Lopez announced that the school had received a donation of art supplies, and he handed Maria a set of paints and brushes. Overjoyed and grateful, Maria worked day and night, pouring her heart into her artwork.\n",
        "When the day of the competition arrived, Maria submitted a beautiful painting depicting the Tree of Dreams under a starry sky, vibrant and full of life. Her artwork was admired by all for its creativity and the story it told.\n",
        "\n",
        "After a week of anxious waiting, the results were announced. Maria had won the first place! Her dream was coming true. She was going to receive a scholarship to study art. The whole village celebrated Maria's success, and even the skeptics began to see the Tree of Dreams in a new light.\n",
        "Marias victory was more than just a personal achievement; it inspired the entire village. Children and adults alike started to believe in their dreams and work towards them, sharing them with the ancient tree that stood proudly in their midst.\n",
        "Maria continued to grow as an artist, always remembering the tree that once gave her hope. She learned that with belief, hard work, and a little bit of magic, dreams really can come true.\n",
        "And so, the Tree of Dreams stood not only as a symbol of Marias success but as a beacon of hope for everyone in Lila, reminding them that sometimes, the oldest stories hold the deepest truths."
      ],
      "metadata": {
        "id": "sqzgFI7itkFz"
      }
    },
    {
      "cell_type": "code",
      "source": [
        "%%capture\n",
        "!pip install gtts"
      ],
      "metadata": {
        "id": "LTW4EtN3sCXf"
      },
      "execution_count": null,
      "outputs": []
    },
    {
      "cell_type": "code",
      "source": [
        "from gtts import gTTS\n",
        "from IPython.display import Audio, display\n",
        "\n",
        "def text_to_audio(mytext, filename):\n",
        "    # Create a gTTS object\n",
        "    tts = gTTS(text=mytext, lang='en')\n",
        "    # Save the audio file\n",
        "    tts.save(filename)"
      ],
      "metadata": {
        "id": "wzHHTuuDhHOm"
      },
      "execution_count": null,
      "outputs": []
    },
    {
      "cell_type": "code",
      "source": [
        "mytext = input()\n",
        "\n",
        "audio_file = \"output.mp3\"\n",
        "text_to_audio(mytext, audio_file)\n",
        "\n",
        "# Play the audio file\n",
        "display(Audio(filename=audio_file, autoplay=True))"
      ],
      "metadata": {
        "id": "Abc5jtJkhPqL"
      },
      "execution_count": null,
      "outputs": []
    },
    {
      "cell_type": "markdown",
      "source": [
        "#🤗🤗🤗Comprehension: Look at the questions:\n",
        "\n",
        "1. What is the name of the main character?\n",
        "    \n",
        "2. What is the name of the village?\n",
        "\n",
        "3. What did Maria have a passion for?\n",
        "\n",
        "4. Your dreams can come true with belief, hard work, and a little bit of what?'\n",
        "\n"
      ],
      "metadata": {
        "id": "Xc8tr_DhttTp"
      }
    },
    {
      "cell_type": "markdown",
      "source": [
        "#🎧🎧🎧Go back and Listen again⤴️⤴️⤴️\n",
        "\n",
        "---\n",
        "\n",
        "#🧐🧐🧐Now take a quiz and *See what you remember*\n",
        "Directions:\n",
        "\n",
        "1. after running the code, the first question will appear.\n",
        "2. Only use lowercase letters and one word answers.\n",
        "3. type in your answers.\n",
        "4. Your score will be at the end.\n"
      ],
      "metadata": {
        "id": "w_Y4pJv1u69K"
      }
    },
    {
      "cell_type": "code",
      "execution_count": null,
      "metadata": {
        "id": "jSEVjcU0WRWy"
      },
      "outputs": [],
      "source": [
        "print('Welcome to G1 Reading Quiz - Remember to only use lowercase letters')\n",
        "answer=input('Are you ready to take the quiz ? (yes/no) :')\n",
        "score=0\n",
        "total_questions=3\n",
        "\n",
        "if answer.lower()=='yes':\n",
        "    answer=input('Question 1: What is the name of the main character?')\n",
        "    if answer.lower()=='maria':\n",
        "        score += 1\n",
        "        print('correct')\n",
        "    else:\n",
        "        print('Wrong Answer :(')\n",
        "\n",
        "\n",
        "    answer=input('Question 2: What is the name of the village? ')\n",
        "    if answer.lower()=='lila':\n",
        "        score += 1\n",
        "        print('correct')\n",
        "    else:\n",
        "        print('Wrong Answer :(')\n",
        "\n",
        "    answer=input('Question 3: What did Maria have a passion for?')\n",
        "    if answer.lower()=='art':\n",
        "        score += 1\n",
        "        print('correct')\n",
        "    else:\n",
        "        print('Wrong Answer :(')\n",
        "\n",
        "\n",
        "    answer=input('Question 4: Your dreams can come true with belief, hard work, and a little bit of what?')\n",
        "    if answer.lower()=='art':\n",
        "        score += 1\n",
        "        print('correct')\n",
        "    else:\n",
        "        print('Wrong Answer :(')\n",
        "\n",
        "print('Thank you for taking this small quiz, you answered',score,\"questions correctly!\")\n",
        "mark=(score/total_questions)*100\n",
        "print('Marks obtained:',mark)\n",
        "print('BYE!')"
      ]
    },
    {
      "cell_type": "markdown",
      "source": [
        "#🔢🔢🔢Listen & Recall:\n",
        "##*Put the sentences in the correct order*\n",
        "\n",
        "Directions:\n",
        "1. Run the code.\n",
        "2. The sentences will be displayed in a random order.\n",
        "3. Put the correct order by entering the numbers for each sentence.\n",
        "4. Click submit and it will show the story if you got it correct.\n"
      ],
      "metadata": {
        "id": "QM9G8TSE6QOD"
      }
    },
    {
      "cell_type": "code",
      "source": [
        "%%capture\n",
        "!pip install ipywidgets\n",
        "\n",
        "import ipywidgets as widgets\n",
        "from IPython.display import display\n",
        "\n",
        "# List of sentences in random order\n",
        "sentences = [\n",
        "    \"A young artist, Maria, used whatever materials she could find to create her art due to her family's poverty.\",\n",
        "    \"The next day, Maria received donated art supplies, enabling her to create a beautiful, winning painting.\",\n",
        "    \"Maria's victory inspired the village to believe in their dreams, renewing faith in the legendary tree's magic.\",\n",
        "    \"In the village of Lila, there was an ancient 'Tree of Dreams' believed to make whispered dreams come true.\",\n",
        "    \"Encouraged by her teacher to enter an art competition, Maria whispered her wish to the Tree of Dreams.\"\n",
        "]\n",
        "\n",
        "# Shuffle sentences for randomness\n",
        "import random\n",
        "random.shuffle(sentences)\n",
        "\n",
        "# Display sentences with numbers\n",
        "print(\"Here are the sentences in random order:\")\n",
        "for i, sentence in enumerate(sentences, 1):\n",
        "    print(f\"{i}. {sentence}\")\n",
        "\n",
        "# Create widgets for user to input the correct order\n",
        "order_inputs = [widgets.BoundedIntText(min=1, max=5, description=f'Sentence {i}:') for i in range(1, 6)]\n",
        "submit_button = widgets.Button(description=\"Submit\")\n",
        "\n",
        "# Function to handle submission\n",
        "def on_submit(b):\n",
        "    try:\n",
        "        # Get user input\n",
        "        user_order = [sentences[input.value - 1] for input in order_inputs]\n",
        "\n",
        "        # Correct order based on the original story summary\n",
        "        correct_order = [\n",
        "            \"In the village of Lila, there was an ancient 'Tree of Dreams' believed to make whispered dreams come true.\",\n",
        "            \"A young artist, Maria, used whatever materials she could find to create her art due to her family's poverty.\",\n",
        "            \"Encouraged by her teacher to enter an art competition, Maria whispered her wish to the Tree of Dreams.\",\n",
        "            \"The next day, Maria received donated art supplies, enabling her to create a beautiful, winning painting.\",\n",
        "            \"Maria's victory inspired the village to believe in their dreams, renewing faith in the legendary tree's magic.\"\n",
        "        ]\n",
        "\n",
        "        # Check if user order matches the correct order\n",
        "        if user_order == correct_order:\n",
        "            print(\"Correct! Here is the story in order:\")\n",
        "            for sentence in user_order:\n",
        "                print(sentence)\n",
        "        else:\n",
        "            print(\"Incorrect order. Please try again.\")\n",
        "    except Exception as e:\n",
        "        print(f\"Error: {e}\")\n",
        "\n",
        "# Link the submit button to the function\n",
        "submit_button.on_click(on_submit)\n",
        "\n",
        "# Display widgets\n",
        "display(*order_inputs, submit_button)"
      ],
      "metadata": {
        "id": "YUc3ps_k7AOZ"
      },
      "execution_count": null,
      "outputs": []
    },
    {
      "cell_type": "markdown",
      "source": [
        "# 🛌🛌🛌What's your dream?\n",
        "*Describe your dream and see what image appears* and then present to the class.\n",
        "\n",
        "Directions:\n",
        "1. Use this prompt to help you create your own: \"Draw a tall/short boy/girl with ____, ______,______, and _______. She/He is holding a _______, a ______, and is near ________. He/She wants to be a ______.  ______ in the background. _____ colors. In the style of ______ anime/ neon/ punk/ realism/ cartoon\"\n",
        "\n",
        "2. Then insert your prompt in this [magical website](https://magicstudio.com/ai-art-generator/) and save the image to your computer or tablet.\n",
        "\n",
        "**Teacher Example:**\n",
        "\"Draw a tall girl with black hair, dark eyes, a small nose, and purple clothes. She is holding a pencil, a book, and is near a chalkboard. She wants to be an art teacher.  Art supplies in the background. pretty colors. In the style of realism. anime/ neon/ punk/realism/cartoon\n",
        "\n",
        "![](https://drive.google.com/uc?export=view&id=1oZ4rPV0BwK62QHbe5ScvNfXKN-lHy86g)\n",
        "\n"
      ],
      "metadata": {
        "id": "cnVESp7LxxCz"
      }
    },
    {
      "cell_type": "markdown",
      "source": [
        "#👩🏼‍🏫👩🏼‍🏫👩🏼‍🏫 Time to write our scripts for presentations!\n",
        "*tell us about your dream using this script* then check your grammar with [grammarly.](https://www.grammarly.com/grammar-check)\n",
        "\n",
        "**Script template:**\n",
        "My dream is to be a __________.\n",
        "I have wanted this dream for _____ years. To become a _________, I need ________, _________, _______, and a little magic.\n",
        "There are two reasons, I want to become a ______. First, ______. Second, _______. I think my dream job is really _________ *adjective* because __________.\n",
        "\n",
        "**Teacher Example:** My name is Sarah. My dream is to be an art teacher. I have wanted this dream for 4 years. To become an art teacher, I need a lot of art supplies, energy, hard work, and a little bit of magic. There are two reasons I want to become an art teacher. First, I like to draw. Second, it seems like a good achievement.  I think my dream job is really good because every school needs art.\n",
        "\n",
        "##### **You can add more details if you want!** 💪. At the end of class, you will add your image and script to Padlet for Presentations."
      ],
      "metadata": {
        "id": "mRiR0vsCHAqm"
      }
    }
  ]
}