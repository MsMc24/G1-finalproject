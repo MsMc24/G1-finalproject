{
  "nbformat": 4,
  "nbformat_minor": 0,
  "metadata": {
    "colab": {
      "private_outputs": true,
      "provenance": [],
      "include_colab_link": true
    },
    "kernelspec": {
      "name": "python3",
      "display_name": "Python 3"
    },
    "language_info": {
      "name": "python"
    }
  },
  "cells": [
    {
      "cell_type": "markdown",
      "metadata": {
        "id": "view-in-github",
        "colab_type": "text"
      },
      "source": [
        "<a href=\"https://colab.research.google.com/github/MsMc24/G1-finalproject/blob/main/FPG01.ipynb\" target=\"_parent\"><img src=\"https://colab.research.google.com/assets/colab-badge.svg\" alt=\"Open In Colab\"/></a>"
      ]
    },
    {
      "cell_type": "markdown",
      "source": [
        "# 🌱**Group 1 Final Project (6/11)**\n",
        "\n",
        "+ Reading material: 💾 [text link](https://raw.githubusercontent.com/MK316/Spring2024/main/DLTESOL/project/story01.txt)\n",
        "\n",
        "##👩🏼‍🏫👩🏼‍🏫👩🏼‍🏫 Learning objectives:\n",
        "+ objective 1: By the end of the class, Ss will be able to listen for specific information in a story.\n",
        "+ objective 2: By the end of the class, Ss will be able to identify new vocabulary and its meaning.\n",
        "+ objective 3: By the end of the class, Ss will be able to generate an image using their own descriptive words."
      ],
      "metadata": {
        "id": "3EGZDlOvWSAf"
      }
    },
    {
      "cell_type": "code",
      "source": [
        "%%capture\n",
        "!pip install wordcloud matplotlib gradio gtts nltk pyqrcode"
      ],
      "metadata": {
        "id": "8kX_nwp3FKc5"
      },
      "execution_count": null,
      "outputs": []
    },
    {
      "cell_type": "markdown",
      "source": [
        "#☁️☁️☁️Wordcloud -  Let's Predict the story looking at key words in the cloud and by looking at the pictures below.\n",
        "Directions:\n",
        "1. The teacher will create the wordcloud for the class on the computer screen.\n",
        "\n",
        "![](https://drive.google.com/uc?export=view&id=1m45srgoxxsjQvL1ZT-5yEnypNPcVwPRh)\n",
        "\n",
        "\n"
      ],
      "metadata": {
        "id": "p-dFG7zZtYLn"
      }
    },
    {
      "cell_type": "code",
      "source": [
        "import matplotlib.pyplot as plt\n",
        "from wordcloud import WordCloud\n",
        "\n",
        "# The provided text\n",
        "text = \"\"\"\n",
        "The Tree of Dreams\n",
        "\n",
        "Once in the small, vibrant village of Lila, there stood an ancient tree known as the \"Tree of Dreams.\" The villagers believed that if anyone whispered their dreams to the tree, the dreams would come true. However, most adults dismissed this as an old tale, meant only to amuse children. Among the villagers was a young girl named Maria. She was a bright, curious eighth grader with a passion for art. Maria loved to draw and paint, but her family was poor, and they couldnt afford art supplies. Despite this, Maria used whatever she could find — leaves, petals, and even coal pieces, to create her art.\n",
        "\n",
        "One day, her art teacher, Mr. Lopez, noticed her talent and encouraged her to enter a national art competition. The winner would receive a scholarship to attend any art school of their choice. Maria was thrilled but also worried about not having professional art supplies to create a competition-worthy piece. Recalling the legend of the Tree of Dreams, Maria decided to visit it. Under the moonlit sky, she whispered to the tree, \"Please help me find a way to show my best in the art competition.\" The next morning, something wonderful happened. Mr. Lopez announced that the school had received a donation of art supplies, and he handed Maria a set of paints and brushes. Overjoyed and grateful, Maria worked day and night, pouring her heart into her artwork. When the day of the competition arrived, Maria submitted a beautiful painting depicting the Tree of Dreams under a starry sky, vibrant and full of life. Her artwork was admired by all for its creativity and the story it told.\n",
        "\n",
        "After a week of anxious waiting, the results were announced. Maria had won the first place! Her dream was coming true. She was going to receive a scholarship to study art. The whole village celebrated Maria's success, and even the skeptics began to see the Tree of Dreams in a new light. Marias victory was more than just a personal achievement; it inspired the entire village. Children and adults alike started to believe in their dreams and work towards them, sharing them with the ancient tree that stood proudly in their midst. Maria continued to grow as an artist, always remembering the tree that once gave her hope. She learned that with belief, hard work, and a little bit of magic, dreams really can come true. And so, the Tree of Dreams stood not only as a symbol of Marias success but as a beacon of hope for everyone in Lila, reminding them that sometimes, the oldest stories hold the deepest truths.\n",
        "\"\"\"\n",
        "\n",
        "# Generate the word cloud\n",
        "wordcloud = WordCloud(width=800, height=400, background_color='white').generate(text)\n",
        "\n",
        "# Display the word cloud using matplotlib\n",
        "plt.figure(figsize=(10, 5))\n",
        "plt.imshow(wordcloud, interpolation='bilinear')\n",
        "plt.axis('off')  # Do not show axes for a cleaner look\n",
        "plt.show()\n"
      ],
      "metadata": {
        "id": "kKabMyMkua4U"
      },
      "execution_count": null,
      "outputs": []
    },
    {
      "cell_type": "markdown",
      "source": [
        "#🎯🎯🎯Look at the Target Vocabulary\n",
        "*Let's look at pictures and flashcards with definitions of the target words*\n",
        "\n",
        "All of these words relate to our dreams and feelings we or others might have about our dream jobs.\n",
        "\n",
        "**Directions:**\n",
        "\n",
        "1. The teacher will show you pictures that relate to the target vocabulary.\n",
        "2. The teacher will then show flashcards on the projector.\n",
        "3. The definition will display. The part of speech is below with pictures to match.\n",
        "----\n",
        "1. A. vibrant (adj)\n",
        "2. B. achievement (n)\n",
        "3. C. depicting (v)\n",
        "4. D. admired (v)\n",
        "5. E. anxious (adj)\n",
        "6. F. thrilled (adj)\n",
        "7. G. skeptics (n)\n",
        "\n",
        "\n",
        "\n"
      ],
      "metadata": {
        "id": "mEHiVdB3uSaR"
      }
    },
    {
      "cell_type": "markdown",
      "source": [
        "#⚡️⚡️⚡️Flashcards:"
      ],
      "metadata": {
        "id": "2xOKmePSfWpB"
      }
    },
    {
      "cell_type": "code",
      "source": [
        "%%capture\n",
        "!pip install PyDictionary\n",
        "!pip install nltk\n",
        "!pip install textblob\n",
        "!pip install ipywidgets\n",
        "\n",
        "import nltk\n",
        "nltk.download('punkt')\n",
        "nltk.download('wordnet')\n"
      ],
      "metadata": {
        "id": "Ah97HDN8iar1"
      },
      "execution_count": null,
      "outputs": []
    },
    {
      "cell_type": "code",
      "source": [
        "%%capture\n",
        "!pip install ipywidgets\n",
        "\n",
        "import ipywidgets as widgets\n",
        "from IPython.display import display\n",
        "\n",
        "# Manually add definitions\n",
        "word_definitions = {\n",
        "    \"vibrant\": \"Full of energy, colorful .\",\n",
        "    \"dismissed\": \"Sent away; rejected.\",\n",
        "    \"depicting\": \"Showing or representing.\",\n",
        "    \"admired\": \"Regarded with respect.\",\n",
        "    \"anxious\": \"worried or nervous.\",\n",
        "    \"skeptics\": \"people who question or doubt.\",\n",
        "    \"achievement\": \"success.\",\n",
        "    \"thrilled\": \"excitement and happiness.\"\n",
        "}\n",
        "\n",
        "# Create flashcards\n",
        "flashcards = []\n",
        "for word, definition in word_definitions.items():\n",
        "    flashcard = f\"Word: {word}\\nDefinition: {definition}\"\n",
        "    flashcards.append(flashcard)\n",
        "\n",
        "# Widgets to display flashcards\n",
        "word_label = widgets.Label(value='')\n",
        "flashcard_area = widgets.Textarea(value='', layout=widgets.Layout(width='500px', height='200px'))\n",
        "next_button = widgets.Button(description='Next')\n",
        "prev_button = widgets.Button(description='Previous')\n",
        "\n",
        "# Display the first flashcard\n",
        "current_index = 0\n",
        "flashcard_area.value = flashcards[current_index]\n",
        "word_label.value = f\"Flashcard {current_index + 1} of {len(flashcards)}\"\n",
        "\n",
        "# Function to update flashcard display\n",
        "def update_flashcard(index):\n",
        "    flashcard_area.value = flashcards[index]\n",
        "    word_label.value = f\"Flashcard {index + 1} of {len(flashcards)}\"\n",
        "\n",
        "# Button click handlers\n",
        "def on_next_button_clicked(b):\n",
        "    global current_index\n",
        "    if current_index < len(flashcards) - 1:\n",
        "        current_index += 1\n",
        "        update_flashcard(current_index)\n",
        "\n",
        "def on_prev_button_clicked(b):\n",
        "    global current_index\n",
        "    if current_index > 0:\n",
        "        current_index -= 1\n",
        "        update_flashcard(current_index)\n",
        "\n",
        "next_button.on_click(on_next_button_clicked)\n",
        "prev_button.on_click(on_prev_button_clicked)\n",
        "\n",
        "# Display widgets\n",
        "display(word_label, flashcard_area, prev_button, next_button)"
      ],
      "metadata": {
        "id": "fwBt4gh1FiHX"
      },
      "execution_count": null,
      "outputs": []
    },
    {
      "cell_type": "markdown",
      "source": [
        "#🥰🥰🥰Now let's check how to pronounce these new words! [APP#1 - Pronunciation](https://msmc24-pronunciation.hf.space/)\n",
        "*Let's learn how to pronounce together*\n",
        "\n",
        "Directions:\n",
        "\n",
        "1. The teacher will run the code and type in a target vocabulary word.\n",
        "2. Listen and repeat.\n",
        "\n"
      ],
      "metadata": {
        "id": "U4Gcak0HIG_F"
      }
    },
    {
      "cell_type": "code",
      "source": [
        "%%capture\n",
        "!pip install gtts ipywidgets\n"
      ],
      "metadata": {
        "id": "lEXVvzWJHZcJ"
      },
      "execution_count": null,
      "outputs": []
    },
    {
      "cell_type": "code",
      "source": [
        "from gtts import gTTS\n",
        "from IPython.display import Audio, display\n",
        "import ipywidgets as widgets\n",
        "from IPython.display import display as display_widget\n",
        "\n",
        "# Function to generate and play pronunciation\n",
        "def play_pronunciation(word):\n",
        "    # Create a gTTS object\n",
        "    tts = gTTS(text=word, lang='en')\n",
        "\n",
        "    # Save the audio to a file\n",
        "    tts.save(\"word_pronunciation.mp3\")\n",
        "\n",
        "    # Load and display the audio file\n",
        "    display(Audio(\"word_pronunciation.mp3\", autoplay=True))\n",
        "\n",
        "# Callback function for the button click event\n",
        "def on_button_click(b):\n",
        "    word = text_box.value\n",
        "    play_pronunciation(word)\n",
        "\n",
        "# Create a text box for input\n",
        "text_box = widgets.Text(\n",
        "    value='',\n",
        "    placeholder='Type a word',\n",
        "    description='Word:',\n",
        "    disabled=False\n",
        ")\n",
        "\n",
        "# Create a button\n",
        "button = widgets.Button(\n",
        "    description='Submit',\n",
        "    disabled=False,\n",
        "    button_style='',\n",
        "    tooltip='Click to submit word',\n",
        "    icon='check'\n",
        ")\n",
        "\n",
        "# Attach the callback function to the button\n",
        "button.on_click(on_button_click)\n",
        "\n",
        "# Display the text box and button\n",
        "display_widget(text_box)\n",
        "display_widget(button)\n"
      ],
      "metadata": {
        "id": "Ob0c3m2VG9zg"
      },
      "execution_count": null,
      "outputs": []
    },
    {
      "cell_type": "markdown",
      "source": [
        "#🤡🤡🤡Now Let's do a synonym activity to check if we can remember the meaning of our target vocabulary! [APP#2 - Synonyms Activity](https://msmc24-SynonymMatchingActivity.hf.space/)\n",
        "\n",
        "Directions:\n",
        "1. The teacher will Run the code and the first synonym will appear below.\n",
        "2. Use the target vocabulary list and talk with your partner about which word you think it is a synonym.\n",
        "3. Each target vocabulary word is used once, type in lowercase.\n",
        "4. The teacher will call on a student in your group to come up.\n",
        "5. type the word in the blank that matches the synonym that is shown.\n"
      ],
      "metadata": {
        "id": "BGYOcp-2vwvh"
      }
    },
    {
      "cell_type": "code",
      "source": [
        "# Import libraries\n",
        "from ipywidgets import Text, Button, VBox\n",
        "\n",
        "# Define questions and answers\n",
        "questions = [\"colorful\", \"worried\", \"excited\", \"showing\", \"respected\", \"doubters\", \"success\" ]\n",
        "answers = [\"vibrant\", \"anxious\", \"thrilled\", \"depicting\", \"admired\", \"skeptics\", \"achievement\"]\n",
        "\n",
        "# Initialize variables\n",
        "score = 0\n",
        "current_question = 0\n",
        "\n",
        "# Define functions\n",
        "def display_question():\n",
        "    global current_question\n",
        "    question_widget = Text(description=questions[current_question])\n",
        "    check_button = Button(description=\"Check Answer\")\n",
        "\n",
        "    def check_answer(b):\n",
        "        global current_question, score\n",
        "        if question_widget.value.lower() == answers[current_question].lower():\n",
        "            score += 1\n",
        "            print(\"Correct!\")\n",
        "        else:\n",
        "            print(\"Incorrect. The correct answer is\", answers[current_question])\n",
        "        current_question += 1\n",
        "        if current_question < len(questions):\n",
        "            display_question()\n",
        "        else:\n",
        "            print(\"Check how you did. Your score is\", score, \"out of\", len(questions))\n",
        "\n",
        "    check_button.on_click(check_answer)\n",
        "\n",
        "    display(VBox([question_widget, check_button]))\n",
        "\n",
        "# Let's match synonyms\n",
        "display_question()"
      ],
      "metadata": {
        "id": "cn5QjyCmzvEm"
      },
      "execution_count": null,
      "outputs": []
    },
    {
      "cell_type": "markdown",
      "source": [
        "#🎧🎧🎧First Listen: Time to listen to the story together and Listen for the main idea!!!\n",
        "*Let's see if you guessed Maria's dream correctly*\n",
        "\n",
        "Directions:\n",
        "\n",
        "1. After running the code, the teacher will copy the story into the blank at the bottom and hit enter.\n",
        "2. The story audio will start playing right away. If you need the teacher to pause, raise your hand.\n",
        "\n",
        "The Tree of Dreams 🌳🌳🌳\n",
        "\n",
        "Once in the small, vibrant village of Lila, there stood an ancient tree known as the \"Tree of Dreams.\" The villagers believed that if anyone whispered their dreams to the tree, the dreams would come true. However, most adults dismissed this as an old tale, meant only to amuse children.\n",
        "Among the villagers was a young girl named Maria. She was a bright, curious eighth grader with a passion for art. Maria loved to draw and paint, but her family was poor, and they couldnt afford art supplies. Despite this, Maria used whatever she could find — leaves, petals, and even coal pieces, to create her art.\n",
        "\n",
        "One day, her art teacher, Mr. Lopez, noticed her talent and encouraged her to enter a national art competition. The winner would receive a scholarship to attend any art school of their choice. Maria was thrilled but also worried about not having professional art supplies to create a competition-worthy piece.\n",
        "Recalling the legend of the Tree of Dreams, Maria decided to visit it. Under the moonlit sky, she whispered to the tree, \"Please help me find a way to show my best in the art competition.\"\n",
        "The next morning, something wonderful happened. Mr. Lopez announced that the school had received a donation of art supplies, and he handed Maria a set of paints and brushes. Overjoyed and grateful, Maria worked day and night, pouring her heart into her artwork.\n",
        "When the day of the competition arrived, Maria submitted a beautiful painting depicting the Tree of Dreams under a starry sky, vibrant and full of life. Her artwork was admired by all for its creativity and the story it told.\n",
        "\n",
        "After a week of anxious waiting, the results were announced. Maria had won the first place! Her dream was coming true. She was going to receive a scholarship to study art. The whole village celebrated Maria's success, and even the skeptics began to see the Tree of Dreams in a new light.\n",
        "Marias victory was more than just a personal achievement; it inspired the entire village. Children and adults alike started to believe in their dreams and work towards them, sharing them with the ancient tree that stood proudly in their midst.\n",
        "Maria continued to grow as an artist, always remembering the tree that once gave her hope. She learned that with belief, hard work, and a little bit of magic, dreams really can come true.\n",
        "And so, the Tree of Dreams stood not only as a symbol of Marias success but as a beacon of hope for everyone in Lila, reminding them that sometimes, the oldest stories hold the deepest truths."
      ],
      "metadata": {
        "id": "sqzgFI7itkFz"
      }
    },
    {
      "cell_type": "code",
      "source": [
        "%%capture\n",
        "!pip install gtts"
      ],
      "metadata": {
        "id": "LTW4EtN3sCXf"
      },
      "execution_count": null,
      "outputs": []
    },
    {
      "cell_type": "code",
      "source": [
        "from gtts import gTTS\n",
        "from IPython.display import Audio, display\n",
        "\n",
        "def text_to_audio(mytext, filename):\n",
        "    # Create a gTTS object\n",
        "    tts = gTTS(text=mytext, lang='en')\n",
        "    # Save the audio file\n",
        "    tts.save(filename)"
      ],
      "metadata": {
        "id": "wzHHTuuDhHOm"
      },
      "execution_count": null,
      "outputs": []
    },
    {
      "cell_type": "code",
      "source": [
        "mytext = input()\n",
        "\n",
        "audio_file = \"output.mp3\"\n",
        "text_to_audio(mytext, audio_file)\n",
        "\n",
        "# Play the audio file\n",
        "display(Audio(filename=audio_file, autoplay=True))"
      ],
      "metadata": {
        "id": "Abc5jtJkhPqL"
      },
      "execution_count": null,
      "outputs": []
    },
    {
      "cell_type": "markdown",
      "source": [
        "#🤗🤗🤗2nd Listen: Look at the true or false questions below. Answer the true or False Questions as you listen to the story."
      ],
      "metadata": {
        "id": "Z13mCEfCfhEe"
      }
    },
    {
      "cell_type": "markdown",
      "source": [
        "##😄😄😄True or False - Click [APP#3 ](https://msmc24-TrueAndFalse.hf.space/) or the link the teacher emailed.\n",
        "###1. The villagers of Lila all believed in the power of the Tree of Dreams.\n",
        "###2. Maria's art teacher, Mr. Lopez, did not support her artistic dream.\n",
        "###3. Maria used leaves, petals, and coal pieces to create her artwork before getting professional art supplies.\n",
        "###4. Maria painted a picture of the Tree of Dreams for the national art competition.\n",
        "###5. After Maria won the art competition, the village continued to doubt the power of the Tree of Dreams."
      ],
      "metadata": {
        "id": "N8D_6ldDoeH5"
      }
    },
    {
      "cell_type": "code",
      "source": [
        "%%capture\n",
        "!pip install gradio"
      ],
      "metadata": {
        "id": "Rttz7tSFfmoq"
      },
      "execution_count": null,
      "outputs": []
    },
    {
      "cell_type": "code",
      "source": [
        "import gradio as gr\n",
        "\n",
        "story = \"https://raw.githubusercontent.com/MK316/Spring2024/main/DLTESOL/project/story01.txt\"\n",
        "\n",
        "# True or False\n",
        "questions = [\n",
        "    {\"question\": \"1. The villagers of Lila all believed in the power of the Tree of Dreams.\", \"options\": [\"True\", \"False\"], \"answer\": \"False\"},\n",
        "    {\"question\": \"2. Maria's art teacher, Mr. Lopez, did not support her artistic dream.\", \"options\": [\"True\", \"False\"], \"answer\": \"False\"},\n",
        "    {\"question\": \"3. Maria used leaves, petals, and coal pieces to create her artwork before getting professional art supplies.\", \"options\": [\"True\", \"False\"], \"answer\": \"True\"},\n",
        "    {\"question\": \"4. Maria painted a picture of the Tree of Dreams for the national art competition.\", \"options\": [\"True\", \"False\"], \"answer\": \"True\"},\n",
        "    {\"question\": \"5. After Maria won the art competition, the village continued to doubt the power of the Tree of Dreams.\", \"options\": [\"True\", \"False\"], \"answer\": \"False\"}\n",
        "\n",
        "\n",
        "]\n",
        "\n",
        "# Function to display the story and ask questions\n",
        "def quiz(*answers):\n",
        "    score = 0\n",
        "    incorrect = []\n",
        "    for i, question in enumerate(questions):\n",
        "        if answers[i] == question[\"answer\"]:\n",
        "            score += 1\n",
        "        else:\n",
        "            incorrect.append(f\"Question {i+1}: Correct answer is {question['answer']}\")\n",
        "    results = \"\\n\".join(incorrect)\n",
        "    return score, results\n",
        "\n",
        "story_display = gr.Markdown(story)\n",
        "inputs = [gr.Radio(label=q[\"question\"], choices=q[\"options\"]) for q in questions]\n",
        "outputs = [gr.Textbox(label=\"Score\"), gr.Textbox(label=\"Incorrect Answers\")]\n",
        "\n",
        "iface = gr.Interface(fn=quiz, inputs=inputs, outputs=outputs, description=\"True or False for The Tree of Dreams'\")\n",
        "iface.launch(share=True)\n",
        "\n"
      ],
      "metadata": {
        "id": "ujUub4dbf4ge"
      },
      "execution_count": null,
      "outputs": []
    },
    {
      "cell_type": "markdown",
      "source": [
        "#🤗🤗🤗3rd Listen: Comprehension - Look at the questions below before listening.\n",
        "\n",
        "1. What is the name of the main character?\n",
        "    \n",
        "2. What is the name of the village?\n",
        "\n",
        "3. What did Maria have a passion for?\n",
        "\n",
        "4. Your dreams can come true with belief, hard work, and a little bit of what?'\n",
        "\n"
      ],
      "metadata": {
        "id": "Xc8tr_DhttTp"
      }
    },
    {
      "cell_type": "markdown",
      "source": [
        "#🎧🎧🎧Now we will Listen again⤴️⤴️⤴️\n",
        "\n",
        "---\n",
        "\n",
        "#🧐🧐🧐Now take the quiz and *See what you remember*\n",
        "Directions:\n",
        "\n",
        "1. click the link [APP#4 - Review Quiz](msmc24-REVIEWQUIZ.hf.space/)\n",
        "2. use lower case letters when answering the questions.\n",
        "3. answer with one word only.\n"
      ],
      "metadata": {
        "id": "w_Y4pJv1u69K"
      }
    },
    {
      "cell_type": "code",
      "source": [
        "%%capture\n",
        "!pip install gradio"
      ],
      "metadata": {
        "id": "t_X_n7Qj3omP"
      },
      "execution_count": null,
      "outputs": []
    },
    {
      "cell_type": "code",
      "source": [
        "import gradio as gr\n",
        "\n",
        "def quiz(question1, question2, question3, question4):\n",
        "    score = 0\n",
        "    total_questions = 3  # Adjust if you change the number of scored questions\n",
        "\n",
        "    responses = {\n",
        "        'Question 1: What is the name of the main character?': question1,\n",
        "        'Question 2: What is the name of the village?': question2,\n",
        "        'Question 3: What did Maria have a passion for?': question3,\n",
        "        'Question 4: Your dreams can come true with belief, hard work, and a little bit of what?': question4\n",
        "    }\n",
        "\n",
        "    correct_answers = {\n",
        "        'Question 1: What is the name of the main character?': 'maria',\n",
        "        'Question 2: What is the name of the village?': 'lila',\n",
        "        'Question 3: What did Maria have a passion for?': 'art',\n",
        "        'Question 4: Your dreams can come true with belief, hard work, and a little bit of what?': 'luck'  # Adjust this if needed\n",
        "    }\n",
        "\n",
        "    output = []\n",
        "    for question, user_answer in responses.items():\n",
        "        if user_answer.lower() == correct_answers[question]:\n",
        "            score += 1\n",
        "            output.append(f\"{question} - Correct!\")\n",
        "        else:\n",
        "            output.append(f\"{question} - Wrong Answer :(\")\n",
        "\n",
        "    mark = (score / total_questions) * 100\n",
        "    output.append(f\"Thank you for taking this small quiz, you answered {score} questions correctly!\")\n",
        "    output.append(f\"Marks obtained: {mark}%\")\n",
        "    output.append(\"BYE!\")\n",
        "    return \"\\n\".join(output)\n",
        "\n",
        "iface = gr.Interface(\n",
        "    fn=quiz,\n",
        "    inputs=[gr.Textbox(label=\"Question 1: What is the name of the main character?\"),\n",
        "            gr.Textbox(label=\"Question 2: What is the name of the village?\"),\n",
        "            gr.Textbox(label=\"Question 3: What did Maria have a passion for?\"),\n",
        "            gr.Textbox(label=\"Question 4: Your dreams can come true with belief, hard work, and a little bit of what?\")],\n",
        "    outputs=\"text\",\n",
        "    title=\"G1 Listening Quiz\",\n",
        "    description=\"Welcome to G1 Listening Quiz - Remember to only use lowercase letters. Are you ready to take the quiz?\"\n",
        ")\n",
        "\n",
        "iface.launch()"
      ],
      "metadata": {
        "id": "MI_gWiwm3quK"
      },
      "execution_count": null,
      "outputs": []
    },
    {
      "cell_type": "markdown",
      "source": [
        "#🔢🔢🔢Listen & Recall:\n",
        "##*Put the sentences in the correct order*\n",
        "\n",
        "Directions:\n",
        "1. Click 💦[APP#5 - Sentence Order]() or click the link the teacher sends you.\n",
        "2. The sentences will be displayed in a random order.\n",
        "3. Put the correct order by entering that order of letters for each sentence.\n",
        "4. Click submit and it will show the story if you got it correct.\n"
      ],
      "metadata": {
        "id": "QM9G8TSE6QOD"
      }
    },
    {
      "cell_type": "code",
      "source": [
        "%%capture\n",
        "!pip install ipywidgets"
      ],
      "metadata": {
        "id": "ndwBiAAq4orq"
      },
      "execution_count": null,
      "outputs": []
    },
    {
      "cell_type": "code",
      "source": [
        "\n",
        "import random\n",
        "import gradio as gr\n",
        "\n",
        "# Define the sentences\n",
        "sentences = [\n",
        "    \"In the village of Lila, there was an ancient 'Tree of Dreams' believed to make whispered dreams come true.\",\n",
        "    \"A young artist, Maria, used whatever materials she could find to create her art due to her family's poverty.\",\n",
        "    \"Encouraged by her teacher to enter an art competition, Maria whispered her wish to the Tree of Dreams.\",\n",
        "    \"The next day, Maria received donated art supplies, enabling her to create a beautiful, winning painting.\",\n",
        "    \"Maria's victory inspired the village to believe in their dreams, renewing faith in the legendary tree's magic.\"\n",
        "]\n",
        "\n",
        "# Shuffle the sentences\n",
        "shuffled_sentences = random.sample(sentences, len(sentences))\n",
        "\n",
        "def display_sentences():\n",
        "    display_text = \"Here are the shuffled sentences:\\n\\n\"\n",
        "    for i, sentence in enumerate(shuffled_sentences):\n",
        "        display_text += f\"{chr(65 + i)}: {sentence}\\n\\n\"\n",
        "    return display_text\n",
        "\n",
        "def check_order(user_input):\n",
        "    # Convert user input to uppercase\n",
        "    user_input = user_input.upper()\n",
        "\n",
        "    # Convert the user input to a list of indices\n",
        "    user_order = [ord(char) - 65 for char in user_input]\n",
        "\n",
        "    # Generate the correct order based on the original sentences\n",
        "    correct_order_indices = [shuffled_sentences.index(sentence) for sentence in sentences]\n",
        "\n",
        "    # Check if the user's order matches the correct order\n",
        "    is_correct = user_order == correct_order_indices\n",
        "\n",
        "    # Prepare the feedback\n",
        "    if is_correct:\n",
        "        return \"Correct! You have identified the correct order of the sentences.\"\n",
        "    else:\n",
        "        return \"Incorrect. Try again.\"\n",
        "\n",
        "# Create Gradio interface\n",
        "def interface():\n",
        "    sentences_display = display_sentences()\n",
        "    return gr.Interface(fn=check_order, inputs=gr.Textbox(label=\"Enter the correct order (e.g., 'ABDEC')\", placeholder=\"Type the order here...\"), outputs=\"text\", live=True).launch(share=True)\n",
        "\n",
        "app = gr.Blocks()\n",
        "\n",
        "with app:\n",
        "    gr.Markdown(display_sentences())\n",
        "    with gr.Row():\n",
        "        order_input = gr.Textbox(label=\"Enter the correct order (e.g., 'ABDEC')\", placeholder=\"Type the order here...\")\n",
        "        output = gr.Textbox(label=\"Feedback\")\n",
        "    order_input.change(fn=check_order, inputs=order_input, outputs=output)\n",
        "\n",
        "app.launch()"
      ],
      "metadata": {
        "id": "YUc3ps_k7AOZ"
      },
      "execution_count": null,
      "outputs": []
    },
    {
      "cell_type": "markdown",
      "source": [
        "# 🛌🛌🛌What's your dream?\n",
        "*Describe your dream and see what image appears* and then present to the class.\n",
        "\n",
        "Directions:\n",
        "1. Use this prompt to help you create your own: \"Draw a tall/short boy/girl with ____, ______,______, and _______. She/He is holding a _______, a ______, and is near ________. He/She wants to be a ______.  ______ in the background. _____ colors. In the style of ______ anime/ neon/ punk/ realism/ cartoon\"\n",
        "\n",
        "2. Then insert your prompt in this [magical website](https://magicstudio.com/ai-art-generator/) and save the image to your computer or tablet.\n",
        "\n",
        "**Teacher Example:**\n",
        "\"Draw a tall girl with black hair, dark eyes, a small nose, and purple clothes. She is holding a pencil, a book, and is near a chalkboard. She wants to be an art teacher.  Art supplies in the background. pretty colors. In the style of realism. anime/ neon/ punk/realism/cartoon\n",
        "\n",
        "![](https://drive.google.com/uc?export=view&id=1oZ4rPV0BwK62QHbe5ScvNfXKN-lHy86g)\n",
        "\n"
      ],
      "metadata": {
        "id": "cnVESp7LxxCz"
      }
    },
    {
      "cell_type": "markdown",
      "source": [
        "#👩🏼‍🏫👩🏼‍🏫👩🏼‍🏫 Homework: Time to write our scripts for presentations!\n",
        "*tell us about your dream using the script below* then check your grammar with [grammarly.](https://www.grammarly.com/grammar-check)\n",
        "\n",
        "**Script template:**\n",
        "My dream is to be a __________.\n",
        "I have wanted this dream for _____ years. To become a _________, I need ________, _________, _______, and a little magic.\n",
        "There are two reasons, I want to become a ______. First, ______. Second, _______. I think my dream job is really _________ *adjective* because __________.\n",
        "\n",
        "**Teacher Example:** My name is Sarah. My dream is to be an art teacher. I have wanted this dream for 4 years. To become an art teacher, I need a lot of art supplies, energy, hard work, and a little bit of magic. There are two reasons I want to become an art teacher. First, I like to draw. Second, it seems like a good achievement.  I think my dream job is really good because every school needs art.\n",
        "\n",
        "##### **You can add more details if you want!** 💪. At the start of the next class, you will add your image and script to Padlet for Presentations."
      ],
      "metadata": {
        "id": "mRiR0vsCHAqm"
      }
    }
  ]
}