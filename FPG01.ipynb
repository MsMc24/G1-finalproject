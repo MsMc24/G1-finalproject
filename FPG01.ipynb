{
  "nbformat": 4,
  "nbformat_minor": 0,
  "metadata": {
    "colab": {
      "private_outputs": true,
      "provenance": [],
      "include_colab_link": true
    },
    "kernelspec": {
      "name": "python3",
      "display_name": "Python 3"
    },
    "language_info": {
      "name": "python"
    }
  },
  "cells": [
    {
      "cell_type": "markdown",
      "metadata": {
        "id": "view-in-github",
        "colab_type": "text"
      },
      "source": [
        "<a href=\"https://colab.research.google.com/github/MsMc24/G1-finalproject/blob/main/FPG01.ipynb\" target=\"_parent\"><img src=\"https://colab.research.google.com/assets/colab-badge.svg\" alt=\"Open In Colab\"/></a>"
      ]
    },
    {
      "cell_type": "markdown",
      "source": [
        "# 🌱**Group 1 Final Project (6/11)**\n",
        "\n",
        "+ Reading material: 💾 [text link](https://raw.githubusercontent.com/MK316/Spring2024/main/DLTESOL/project/story01.txt)\n",
        "\n",
        "##👩🏼‍🏫👩🏼‍🏫👩🏼‍🏫 Learning objectives:\n",
        "+ objective 1: By the end of the class, Ss will be able to listen for specific information in a story.\n",
        "+ objective 1: By the end of the class, Ss will be able to identify new vocabulary and its meaning.\n",
        "+ objective 1: By the end of the class, Ss will be able to create their own story."
      ],
      "metadata": {
        "id": "3EGZDlOvWSAf"
      }
    },
    {
      "cell_type": "code",
      "source": [],
      "metadata": {
        "id": "oS5FBTUjtYjy"
      },
      "execution_count": null,
      "outputs": []
    },
    {
      "cell_type": "code",
      "source": [
        "%%capture\n",
        "!pip install wordcloud matplotlib gradio gtts nltk pyqrcode"
      ],
      "metadata": {
        "id": "8kX_nwp3FKc5"
      },
      "execution_count": null,
      "outputs": []
    },
    {
      "cell_type": "markdown",
      "source": [
        "#☁️☁️☁️Wordcloud -  Let's Predict the story"
      ],
      "metadata": {
        "id": "p-dFG7zZtYLn"
      }
    },
    {
      "cell_type": "code",
      "source": [
        "import matplotlib.pyplot as plt\n",
        "from wordcloud import WordCloud\n",
        "\n",
        "# The provided text\n",
        "text = \"\"\"\n",
        "The Tree of Dreams\n",
        "\n",
        "Once in the small, vibrant village of Lila, there stood an ancient tree known as the \"Tree of Dreams.\" The villagers believed that if anyone whispered their dreams to the tree, the dreams would come true. However, most adults dismissed this as an old tale, meant only to amuse children. Among the villagers was a young girl named Maria. She was a bright, curious eighth grader with a passion for art. Maria loved to draw and paint, but her family was poor, and they couldnt afford art supplies. Despite this, Maria used whatever she could find — leaves, petals, and even coal pieces, to create her art.\n",
        "\n",
        "One day, her art teacher, Mr. Lopez, noticed her talent and encouraged her to enter a national art competition. The winner would receive a scholarship to attend any art school of their choice. Maria was thrilled but also worried about not having professional art supplies to create a competition-worthy piece. Recalling the legend of the Tree of Dreams, Maria decided to visit it. Under the moonlit sky, she whispered to the tree, \"Please help me find a way to show my best in the art competition.\" The next morning, something wonderful happened. Mr. Lopez announced that the school had received a donation of art supplies, and he handed Maria a set of paints and brushes. Overjoyed and grateful, Maria worked day and night, pouring her heart into her artwork. When the day of the competition arrived, Maria submitted a beautiful painting depicting the Tree of Dreams under a starry sky, vibrant and full of life. Her artwork was admired by all for its creativity and the story it told.\n",
        "\n",
        "After a week of anxious waiting, the results were announced. Maria had won the first place! Her dream was coming true. She was going to receive a scholarship to study art. The whole village celebrated Maria's success, and even the skeptics began to see the Tree of Dreams in a new light. Marias victory was more than just a personal achievement; it inspired the entire village. Children and adults alike started to believe in their dreams and work towards them, sharing them with the ancient tree that stood proudly in their midst. Maria continued to grow as an artist, always remembering the tree that once gave her hope. She learned that with belief, hard work, and a little bit of magic, dreams really can come true. And so, the Tree of Dreams stood not only as a symbol of Marias success but as a beacon of hope for everyone in Lila, reminding them that sometimes, the oldest stories hold the deepest truths.\n",
        "\"\"\"\n",
        "\n",
        "# Generate the word cloud\n",
        "wordcloud = WordCloud(width=800, height=400, background_color='white').generate(text)\n",
        "\n",
        "# Display the word cloud using matplotlib\n",
        "plt.figure(figsize=(10, 5))\n",
        "plt.imshow(wordcloud, interpolation='bilinear')\n",
        "plt.axis('off')  # Do not show axes for a cleaner look\n",
        "plt.show()\n"
      ],
      "metadata": {
        "id": "kKabMyMkua4U"
      },
      "execution_count": null,
      "outputs": []
    },
    {
      "cell_type": "markdown",
      "source": [
        "#🎯🎯🎯Target Vocabulary\n",
        "*Let's look up how to pronounce words we might not know*\n"
      ],
      "metadata": {
        "id": "mEHiVdB3uSaR"
      }
    },
    {
      "cell_type": "code",
      "source": [
        "%%capture\n",
        "pip install PyDictionary\n"
      ],
      "metadata": {
        "id": "ddt_2cCPuopz"
      },
      "execution_count": null,
      "outputs": []
    },
    {
      "cell_type": "code",
      "source": [
        "from PyDictionary import PyDictionary\n",
        "import requests\n",
        "\n",
        "def get_pronunciation(word):\n",
        "    # Using PyDictionary to get basic information\n",
        "    dictionary = PyDictionary()\n",
        "    meanings = dictionary.meaning(word)\n",
        "\n",
        "    if meanings:\n",
        "        print(f\"Definitions of '{word}':\")\n",
        "        for key, value in meanings.items():\n",
        "            print(f\"{key}: {', '.join(value)}\")\n",
        "    else:\n",
        "        print(f\"No definitions found for '{word}'\")\n",
        "\n",
        "    # Using a web service to get pronunciation\n",
        "    api_url = f\"https://api.dictionaryapi.dev/api/v2/entries/en/{word}\"\n",
        "    response = requests.get(api_url)\n",
        "\n",
        "    if response.status_code == 200:\n",
        "        data = response.json()\n",
        "        if data and 'phonetics' in data[0] and len(data[0]['phonetics']) > 0:\n",
        "            pronunciation = data[0]['phonetics'][0].get('text')\n",
        "            audio = data[0]['phonetics'][0].get('audio')\n",
        "            if pronunciation:\n",
        "                print(f\"Pronunciation of '{word}': {pronunciation}\")\n",
        "            if audio:\n",
        "                print(f\"Audio pronunciation link: {audio}\")\n",
        "        else:\n",
        "            print(f\"No pronunciation found for '{word}'\")\n",
        "    else:\n",
        "        print(f\"Failed to fetch pronunciation for '{word}'\")\n",
        "\n",
        "# Example usage\n",
        "word_to_lookup = input(\"Enter a word to look up pronunciation: \")\n",
        "get_pronunciation(word_to_lookup)"
      ],
      "metadata": {
        "id": "RNDMM17Cu5Pi"
      },
      "execution_count": null,
      "outputs": []
    },
    {
      "cell_type": "markdown",
      "source": [
        "#🎧🎧🎧Let's listen to the story together\n",
        "\n",
        "The Tree of Dreams 🌳🌳🌳\n",
        "\n",
        "Once in the small, vibrant village of Lila, there stood an ancient tree known as the \"Tree of Dreams.\" The villagers believed that if anyone whispered their dreams to the tree, the dreams would come true. However, most adults dismissed this as an old tale, meant only to amuse children.\n",
        "Among the villagers was a young girl named Maria. She was a bright, curious eighth grader with a passion for art. Maria loved to draw and paint, but her family was poor, and they couldnt afford art supplies. Despite this, Maria used whatever she could find — leaves, petals, and even coal pieces, to create her art.\n",
        "\n",
        "One day, her art teacher, Mr. Lopez, noticed her talent and encouraged her to enter a national art competition. The winner would receive a scholarship to attend any art school of their choice. Maria was thrilled but also worried about not having professional art supplies to create a competition-worthy piece.\n",
        "Recalling the legend of the Tree of Dreams, Maria decided to visit it. Under the moonlit sky, she whispered to the tree, \"Please help me find a way to show my best in the art competition.\"\n",
        "The next morning, something wonderful happened. Mr. Lopez announced that the school had received a donation of art supplies, and he handed Maria a set of paints and brushes. Overjoyed and grateful, Maria worked day and night, pouring her heart into her artwork.\n",
        "When the day of the competition arrived, Maria submitted a beautiful painting depicting the Tree of Dreams under a starry sky, vibrant and full of life. Her artwork was admired by all for its creativity and the story it told.\n",
        "\n",
        "After a week of anxious waiting, the results were announced. Maria had won the first place! Her dream was coming true. She was going to receive a scholarship to study art. The whole village celebrated Maria's success, and even the skeptics began to see the Tree of Dreams in a new light.\n",
        "Marias victory was more than just a personal achievement; it inspired the entire village. Children and adults alike started to believe in their dreams and work towards them, sharing them with the ancient tree that stood proudly in their midst.\n",
        "Maria continued to grow as an artist, always remembering the tree that once gave her hope. She learned that with belief, hard work, and a little bit of magic, dreams really can come true.\n",
        "And so, the Tree of Dreams stood not only as a symbol of Marias success but as a beacon of hope for everyone in Lila, reminding them that sometimes, the oldest stories hold the deepest truths."
      ],
      "metadata": {
        "id": "sqzgFI7itkFz"
      }
    },
    {
      "cell_type": "code",
      "source": [
        "%%capture\n",
        "!pip install gtts"
      ],
      "metadata": {
        "id": "LTW4EtN3sCXf"
      },
      "execution_count": null,
      "outputs": []
    },
    {
      "cell_type": "code",
      "source": [
        "from gtts import gTTS\n",
        "from IPython.display import Audio, display\n",
        "\n",
        "def text_to_audio(mytext, filename):\n",
        "    # Create a gTTS object\n",
        "    tts = gTTS(text=mytext, lang='en')\n",
        "    # Save the audio file\n",
        "    tts.save(filename)"
      ],
      "metadata": {
        "id": "wzHHTuuDhHOm"
      },
      "execution_count": null,
      "outputs": []
    },
    {
      "cell_type": "code",
      "source": [
        "mytext = input()\n",
        "\n",
        "audio_file = \"output.mp3\"\n",
        "text_to_audio(mytext, audio_file)\n",
        "\n",
        "# Play the audio file\n",
        "display(Audio(filename=audio_file, autoplay=True))"
      ],
      "metadata": {
        "id": "Abc5jtJkhPqL"
      },
      "execution_count": null,
      "outputs": []
    },
    {
      "cell_type": "markdown",
      "source": [
        "#🧐🧐🧐Let's take a quiz and *See what you remember*"
      ],
      "metadata": {
        "id": "Xc8tr_DhttTp"
      }
    },
    {
      "cell_type": "code",
      "execution_count": null,
      "metadata": {
        "id": "jSEVjcU0WRWy"
      },
      "outputs": [],
      "source": [
        "print('Welcome to G1 Reading Quiz - Remember to only use lowercase letters')\n",
        "answer=input('Are you ready to take the quiz ? (yes/no) :')\n",
        "score=0\n",
        "total_questions=3\n",
        "\n",
        "if answer.lower()=='yes':\n",
        "    answer=input('Question 1: What is the name of the main character?')\n",
        "    if answer.lower()=='maria':\n",
        "        score += 1\n",
        "        print('correct')\n",
        "    else:\n",
        "        print('Wrong Answer :(')\n",
        "\n",
        "\n",
        "    answer=input('Question 2: What is the name of the village? ')\n",
        "    if answer.lower()=='lila':\n",
        "        score += 1\n",
        "        print('correct')\n",
        "    else:\n",
        "        print('Wrong Answer :(')\n",
        "\n",
        "    answer=input('Question 3: What did Maria have a passion for?')\n",
        "    if answer.lower()=='art':\n",
        "        score += 1\n",
        "        print('correct')\n",
        "    else:\n",
        "        print('Wrong Answer :(')\n",
        "\n",
        "\n",
        "    answer=input('Question 4: Your dreams can come true with belief, hard work, and a little bit of what?')\n",
        "    if answer.lower()=='art':\n",
        "        score += 1\n",
        "        print('correct')\n",
        "    else:\n",
        "        print('Wrong Answer :(')\n",
        "\n",
        "print('Thankyou for taking this small quiz, you answered',score,\"questions correctly!\")\n",
        "mark=(score/total_questions)*100\n",
        "print('Marks obtained:',mark)\n",
        "print('BYE!')"
      ]
    },
    {
      "cell_type": "markdown",
      "source": [],
      "metadata": {
        "id": "Q7s9glfkuK-i"
      }
    },
    {
      "cell_type": "markdown",
      "source": [
        "# 🛌🛌🛌What's your dream?\n",
        "*Describe it and see what image appears*"
      ],
      "metadata": {
        "id": "cnVESp7LxxCz"
      }
    }
  ]
}