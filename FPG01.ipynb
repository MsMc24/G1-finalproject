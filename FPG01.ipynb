{
  "nbformat": 4,
  "nbformat_minor": 0,
  "metadata": {
    "colab": {
      "private_outputs": true,
      "provenance": [],
      "include_colab_link": true
    },
    "kernelspec": {
      "name": "python3",
      "display_name": "Python 3"
    },
    "language_info": {
      "name": "python"
    }
  },
  "cells": [
    {
      "cell_type": "markdown",
      "metadata": {
        "id": "view-in-github",
        "colab_type": "text"
      },
      "source": [
        "<a href=\"https://colab.research.google.com/github/MsMc24/G1-finalproject/blob/main/FPG01.ipynb\" target=\"_parent\"><img src=\"https://colab.research.google.com/assets/colab-badge.svg\" alt=\"Open In Colab\"/></a>"
      ]
    },
    {
      "cell_type": "markdown",
      "source": [
        "# 🌱**Group 1 Final Project (6/11)**\n",
        "\n",
        "+ Reading material: 💾 [text link](https://raw.githubusercontent.com/MK316/Spring2024/main/DLTESOL/project/story01.txt)\n",
        "\n",
        "## Learning objectives:\n",
        "+ objective 1: By the end of the class, Ss will be able to\n",
        "+ objective 1: By the end of the class, Ss will be able to\n",
        "+ objective 1: By the end of the class, Ss will be able to"
      ],
      "metadata": {
        "id": "3EGZDlOvWSAf"
      }
    },
    {
      "cell_type": "code",
      "source": [
        "%%capture\n",
        "!pip install wordcloud matplotlib gradio gtts nltk pyqrcode"
      ],
      "metadata": {
        "id": "8kX_nwp3FKc5"
      },
      "execution_count": null,
      "outputs": []
    },
    {
      "cell_type": "markdown",
      "source": [
        "#Wordcloud -  Let's Predict the story"
      ],
      "metadata": {
        "id": "p-dFG7zZtYLn"
      }
    },
    {
      "cell_type": "code",
      "source": [
        "# paste the story when the pop-up box appears\n",
        "text=input()"
      ],
      "metadata": {
        "id": "Ogsk02JntjhU"
      },
      "execution_count": null,
      "outputs": []
    },
    {
      "cell_type": "markdown",
      "source": [
        "#Target Vocabulary\n",
        "*Let's look up how to pronounce words we might not know*\n"
      ],
      "metadata": {
        "id": "mEHiVdB3uSaR"
      }
    },
    {
      "cell_type": "markdown",
      "source": [
        "#Let's listen to the story together"
      ],
      "metadata": {
        "id": "sqzgFI7itkFz"
      }
    },
    {
      "cell_type": "code",
      "source": [],
      "metadata": {
        "id": "LTW4EtN3sCXf"
      },
      "execution_count": null,
      "outputs": []
    },
    {
      "cell_type": "markdown",
      "source": [
        "#Let's take a quiz and *See what you remember*"
      ],
      "metadata": {
        "id": "Xc8tr_DhttTp"
      }
    },
    {
      "cell_type": "code",
      "execution_count": null,
      "metadata": {
        "id": "jSEVjcU0WRWy"
      },
      "outputs": [],
      "source": [
        "print('Welcome to G1 Reading Quiz - Remember to only use lowercase letters')\n",
        "answer=input('Are you ready to take the quiz ? (yes/no) :')\n",
        "score=0\n",
        "total_questions=3\n",
        "\n",
        "if answer.lower()=='yes':\n",
        "    answer=input('Question 1: What is the name of the main character?')\n",
        "    if answer.lower()=='maria':\n",
        "        score += 1\n",
        "        print('correct')\n",
        "    else:\n",
        "        print('Wrong Answer :(')\n",
        "\n",
        "\n",
        "    answer=input('Question 2: What is the name of the village? ')\n",
        "    if answer.lower()=='lila':\n",
        "        score += 1\n",
        "        print('correct')\n",
        "    else:\n",
        "        print('Wrong Answer :(')\n",
        "\n",
        "    answer=input('Question 3: What did Maria have a passion for?')\n",
        "    if answer.lower()=='art':\n",
        "        score += 1\n",
        "        print('correct')\n",
        "    else:\n",
        "        print('Wrong Answer :(')\n",
        "\n",
        "\n",
        "    answer=input('Question 4: Your dreams can come true with belief, hard work, and a little bit of what?')\n",
        "    if answer.lower()=='art':\n",
        "        score += 1\n",
        "        print('correct')\n",
        "    else:\n",
        "        print('Wrong Answer :(')\n",
        "\n",
        "print('Thankyou for taking this small quiz, you answered',score,\"questions correctly!\")\n",
        "mark=(score/total_questions)*100\n",
        "print('Marks obtained:',mark)\n",
        "print('BYE!')"
      ]
    },
    {
      "cell_type": "markdown",
      "source": [],
      "metadata": {
        "id": "Q7s9glfkuK-i"
      }
    }
  ]
}