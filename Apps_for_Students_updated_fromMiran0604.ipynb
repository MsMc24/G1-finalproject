{
  "nbformat": 4,
  "nbformat_minor": 0,
  "metadata": {
    "colab": {
      "provenance": [],
      "include_colab_link": true
    },
    "kernelspec": {
      "name": "python3",
      "display_name": "Python 3"
    },
    "language_info": {
      "name": "python"
    }
  },
  "cells": [
    {
      "cell_type": "markdown",
      "metadata": {
        "id": "view-in-github",
        "colab_type": "text"
      },
      "source": [
        "<a href=\"https://colab.research.google.com/github/MsMc24/G1-finalproject/blob/main/Apps_for_Students_updated_fromMiran0604.ipynb\" target=\"_parent\"><img src=\"https://colab.research.google.com/assets/colab-badge.svg\" alt=\"Open In Colab\"/></a>"
      ]
    },
    {
      "cell_type": "markdown",
      "source": [
        "Quiz"
      ],
      "metadata": {
        "id": "vRdspClgcWOf"
      }
    },
    {
      "cell_type": "code",
      "execution_count": 1,
      "metadata": {
        "id": "OfGXJ-9GaKRA",
        "colab": {
          "base_uri": "https://localhost:8080/"
        },
        "outputId": "675c8c4f-18e9-4241-aeb2-eb61a4b5f4aa"
      },
      "outputs": [
        {
          "output_type": "stream",
          "name": "stdout",
          "text": [
            "Welcome to G1 Listening Quiz - Remember to only use lowercase letters\n",
            "Are you ready to take the quiz ? (yes/no) :yes\n",
            "Question 1: What is the name of the main character?Mary\n",
            "Wrong Answer :(\n",
            "Question 2: What is the name of the village? Mountin\n",
            "Wrong Answer :(\n",
            "Question 3: What did Maria have a passion for?dance\n",
            "Wrong Answer :(\n",
            "Question 4: Your dreams can come true with belief, hard work, and a little bit of what?effort\n",
            "Wrong Answer :(\n",
            "Thank you for taking this small quiz, you answered 0 questions correctly!\n",
            "Marks obtained: 0.0\n",
            "BYE!\n"
          ]
        }
      ],
      "source": [
        "print('Welcome to G1 Listening Quiz - Remember to only use lowercase letters')\n",
        "answer=input('Are you ready to take the quiz ? (yes/no) :')\n",
        "score=0\n",
        "total_questions=3\n",
        "\n",
        "if answer.lower()=='yes':\n",
        "    answer=input('Question 1: What is the name of the main character?')\n",
        "    if answer.lower()=='maria':\n",
        "        score += 1\n",
        "        print('correct')\n",
        "    else:\n",
        "        print('Wrong Answer :(')\n",
        "\n",
        "\n",
        "    answer=input('Question 2: What is the name of the village? ')\n",
        "    if answer.lower()=='lila':\n",
        "        score += 1\n",
        "        print('correct')\n",
        "    else:\n",
        "        print('Wrong Answer :(')\n",
        "\n",
        "    answer=input('Question 3: What did Maria have a passion for?')\n",
        "    if answer.lower()=='art':\n",
        "        score += 1\n",
        "        print('correct')\n",
        "    else:\n",
        "        print('Wrong Answer :(')\n",
        "\n",
        "\n",
        "    answer=input('Question 4: Your dreams can come true with belief, hard work, and a little bit of what?')\n",
        "    if answer.lower()=='art':\n",
        "        score += 1\n",
        "        print('correct')\n",
        "    else:\n",
        "        print('Wrong Answer :(')\n",
        "\n",
        "print('Thank you for taking this small quiz, you answered',score,\"questions correctly!\")\n",
        "mark=(score/total_questions)*100\n",
        "print('Marks obtained:',mark)\n",
        "print('BYE!')"
      ]
    },
    {
      "cell_type": "markdown",
      "source": [
        "## Miran Code 😘\n",
        "Check whether this is what you need. If not, email me again."
      ],
      "metadata": {
        "id": "m1nYTTdxgNAr"
      }
    },
    {
      "cell_type": "code",
      "source": [
        "%%capture\n",
        "!pip install gradio"
      ],
      "metadata": {
        "id": "1izxuOz4gRGA"
      },
      "execution_count": 4,
      "outputs": []
    },
    {
      "cell_type": "code",
      "source": [
        "import gradio as gr\n",
        "\n",
        "def quiz(question1, question2, question3, question4):\n",
        "    score = 0\n",
        "    total_questions = 3  # Adjust if you change the number of scored questions\n",
        "\n",
        "    responses = {\n",
        "        'Question 1: What is the name of the main character?': question1,\n",
        "        'Question 2: What is the name of the village?': question2,\n",
        "        'Question 3: What did Maria have a passion for?': question3,\n",
        "        'Question 4: Your dreams can come true with belief, hard work, and a little bit of what?': question4\n",
        "    }\n",
        "\n",
        "    correct_answers = {\n",
        "        'Question 1: What is the name of the main character?': 'maria',\n",
        "        'Question 2: What is the name of the village?': 'lila',\n",
        "        'Question 3: What did Maria have a passion for?': 'art',\n",
        "        'Question 4: Your dreams can come true with belief, hard work, and a little bit of what?': 'luck'  # Adjust this if needed\n",
        "    }\n",
        "\n",
        "    output = []\n",
        "    for question, user_answer in responses.items():\n",
        "        if user_answer.lower() == correct_answers[question]:\n",
        "            score += 1\n",
        "            output.append(f\"{question} - Correct!\")\n",
        "        else:\n",
        "            output.append(f\"{question} - Wrong Answer :(\")\n",
        "\n",
        "    mark = (score / total_questions) * 100\n",
        "    output.append(f\"Thank you for taking this small quiz, you answered {score} questions correctly!\")\n",
        "    output.append(f\"Marks obtained: {mark}%\")\n",
        "    output.append(\"BYE!\")\n",
        "    return \"\\n\".join(output)\n",
        "\n",
        "iface = gr.Interface(\n",
        "    fn=quiz,\n",
        "    inputs=[gr.Textbox(label=\"Question 1: What is the name of the main character?\"),\n",
        "            gr.Textbox(label=\"Question 2: What is the name of the village?\"),\n",
        "            gr.Textbox(label=\"Question 3: What did Maria have a passion for?\"),\n",
        "            gr.Textbox(label=\"Question 4: Your dreams can come true with belief, hard work, and a little bit of what?\")],\n",
        "    outputs=\"text\",\n",
        "    title=\"G1 Listening Quiz\",\n",
        "    description=\"Welcome to G1 Listening Quiz - Remember to only use lowercase letters. Are you ready to take the quiz?\"\n",
        ")\n",
        "\n",
        "iface.launch()\n"
      ],
      "metadata": {
        "colab": {
          "base_uri": "https://localhost:8080/",
          "height": 651
        },
        "id": "x9efAbomgO0i",
        "outputId": "51f0c9b5-c6a6-409b-ef8c-429c48a08b2e"
      },
      "execution_count": 7,
      "outputs": [
        {
          "output_type": "stream",
          "name": "stdout",
          "text": [
            "Setting queue=True in a Colab notebook requires sharing enabled. Setting `share=True` (you can turn this off by setting `share=False` in `launch()` explicitly).\n",
            "\n",
            "Colab notebook detected. To show errors in colab notebook, set debug=True in launch()\n",
            "Running on public URL: https://d7d6ffd150f3f9bac2.gradio.live\n",
            "\n",
            "This share link expires in 72 hours. For free permanent hosting and GPU upgrades, run `gradio deploy` from Terminal to deploy to Spaces (https://huggingface.co/spaces)\n"
          ]
        },
        {
          "output_type": "display_data",
          "data": {
            "text/plain": [
              "<IPython.core.display.HTML object>"
            ],
            "text/html": [
              "<div><iframe src=\"https://d7d6ffd150f3f9bac2.gradio.live\" width=\"100%\" height=\"500\" allow=\"autoplay; camera; microphone; clipboard-read; clipboard-write;\" frameborder=\"0\" allowfullscreen></iframe></div>"
            ]
          },
          "metadata": {}
        },
        {
          "output_type": "execute_result",
          "data": {
            "text/plain": []
          },
          "metadata": {},
          "execution_count": 7
        }
      ]
    },
    {
      "cell_type": "markdown",
      "source": [
        "Sentence Rearrangement\n",
        "\n",
        "😘%%capture means no output display. So, if you want to hide the installation, split codes into two. See my code below"
      ],
      "metadata": {
        "id": "ZoFAOGSAcdUn"
      }
    },
    {
      "cell_type": "code",
      "source": [
        "%%capture\n",
        "!pip install ipywidgets\n",
        "\n",
        "import ipywidgets as widgets\n",
        "from IPython.display import display\n",
        "\n",
        "# List of sentences in random order\n",
        "sentences = [\n",
        "    \"A young artist, Maria, used whatever materials she could find to create her art due to her family's poverty.\",\n",
        "    \"The next day, Maria received donated art supplies, enabling her to create a beautiful, winning painting.\",\n",
        "    \"Maria's victory inspired the village to believe in their dreams, renewing faith in the legendary tree's magic.\",\n",
        "    \"In the village of Lila, there was an ancient 'Tree of Dreams' believed to make whispered dreams come true.\",\n",
        "    \"Encouraged by her teacher to enter an art competition, Maria whispered her wish to the Tree of Dreams.\"\n",
        "]\n",
        "\n",
        "# Shuffle sentences for randomness\n",
        "import random\n",
        "random.shuffle(sentences)\n",
        "\n",
        "# Display sentences with numbers\n",
        "print(\"Here are the sentences in random order:\")\n",
        "for i, sentence in enumerate(sentences, 1):\n",
        "    print(f\"{i}. {sentence}\")\n",
        "\n",
        "# Create widgets for user to input the correct order\n",
        "order_inputs = [widgets.BoundedIntText(min=1, max=5, description=f'Sentence {i}:') for i in range(1, 6)]\n",
        "submit_button = widgets.Button(description=\"Submit\")\n",
        "\n",
        "# Function to handle submission\n",
        "def on_submit(b):\n",
        "    try:\n",
        "        # Get user input\n",
        "        user_order = [sentences[input.value - 1] for input in order_inputs]\n",
        "\n",
        "        # Correct order based on the original story summary\n",
        "        correct_order = [\n",
        "            \"In the village of Lila, there was an ancient 'Tree of Dreams' believed to make whispered dreams come true.\",\n",
        "            \"A young artist, Maria, used whatever materials she could find to create her art due to her family's poverty.\",\n",
        "            \"Encouraged by her teacher to enter an art competition, Maria whispered her wish to the Tree of Dreams.\",\n",
        "            \"The next day, Maria received donated art supplies, enabling her to create a beautiful, winning painting.\",\n",
        "            \"Maria's victory inspired the village to believe in their dreams, renewing faith in the legendary tree's magic.\"\n",
        "        ]\n",
        "\n",
        "        # Check if user order matches the correct order\n",
        "        if user_order == correct_order:\n",
        "            print(\"Correct! Here is the story in order:\")\n",
        "            for sentence in user_order:\n",
        "                print(sentence)\n",
        "        else:\n",
        "            print(\"Incorrect order. Please try again.\")\n",
        "    except Exception as e:\n",
        "        print(f\"Error: {e}\")\n",
        "\n",
        "# Link the submit button to the function\n",
        "submit_button.on_click(on_submit)\n",
        "\n",
        "# Display widgets\n",
        "display(*order_inputs, submit_button)"
      ],
      "metadata": {
        "id": "jB_iuYWgchPb"
      },
      "execution_count": null,
      "outputs": []
    },
    {
      "cell_type": "markdown",
      "source": [
        "## Miran Trial for the second 😉"
      ],
      "metadata": {
        "id": "QzkFJ2ilhyb4"
      }
    },
    {
      "cell_type": "code",
      "source": [
        "%%capture\n",
        "!pip install ipywidgets"
      ],
      "metadata": {
        "id": "BIoCibtnh2cx"
      },
      "execution_count": 9,
      "outputs": []
    },
    {
      "cell_type": "code",
      "source": [
        "import random\n",
        "import gradio as gr\n",
        "\n",
        "# Define the sentences\n",
        "sentences = [\n",
        "    \"In the village of Lila, there was an ancient 'Tree of Dreams' believed to make whispered dreams come true.\",\n",
        "    \"A young artist, Maria, used whatever materials she could find to create her art due to her family's poverty.\",\n",
        "    \"Encouraged by her teacher to enter an art competition, Maria whispered her wish to the Tree of Dreams.\",\n",
        "    \"The next day, Maria received donated art supplies, enabling her to create a beautiful, winning painting.\",\n",
        "    \"Maria's victory inspired the village to believe in their dreams, renewing faith in the legendary tree's magic.\"\n",
        "]\n",
        "\n",
        "# Shuffle the sentences\n",
        "shuffled_sentences = random.sample(sentences, len(sentences))\n",
        "\n",
        "def display_sentences():\n",
        "    display_text = \"Here are the shuffled sentences:\\n\\n\"\n",
        "    for i, sentence in enumerate(shuffled_sentences):\n",
        "        display_text += f\"{chr(65 + i)}: {sentence}\\n\\n\"\n",
        "    return display_text\n",
        "\n",
        "def check_order(user_input):\n",
        "    # Convert user input to uppercase\n",
        "    user_input = user_input.upper()\n",
        "\n",
        "    # Convert the user input to a list of indices\n",
        "    user_order = [ord(char) - 65 for char in user_input]\n",
        "\n",
        "    # Generate the correct order based on the original sentences\n",
        "    correct_order_indices = [shuffled_sentences.index(sentence) for sentence in sentences]\n",
        "\n",
        "    # Check if the user's order matches the correct order\n",
        "    is_correct = user_order == correct_order_indices\n",
        "\n",
        "    # Prepare the feedback\n",
        "    if is_correct:\n",
        "        return \"Correct! You have identified the correct order of the sentences.\"\n",
        "    else:\n",
        "        return \"Incorrect. Try again.\"\n",
        "\n",
        "# Create Gradio interface\n",
        "def interface():\n",
        "    sentences_display = display_sentences()\n",
        "    return gr.Interface(fn=check_order, inputs=gr.Textbox(label=\"Enter the correct order (e.g., 'ABDEC')\", placeholder=\"Type the order here...\"), outputs=\"text\", live=True).launch(share=True)\n",
        "\n",
        "app = gr.Blocks()\n",
        "\n",
        "with app:\n",
        "    gr.Markdown(display_sentences())\n",
        "    with gr.Row():\n",
        "        order_input = gr.Textbox(label=\"Enter the correct order (e.g., 'ABDEC')\", placeholder=\"Type the order here...\")\n",
        "        output = gr.Textbox(label=\"Feedback\")\n",
        "    order_input.change(fn=check_order, inputs=order_input, outputs=output)\n",
        "\n",
        "app.launch()\n"
      ],
      "metadata": {
        "colab": {
          "base_uri": "https://localhost:8080/",
          "height": 651
        },
        "id": "Cp7kVr8oxh-P",
        "outputId": "40eb23d3-abb4-43ad-f8e5-7e360003e8f3"
      },
      "execution_count": 44,
      "outputs": [
        {
          "output_type": "stream",
          "name": "stdout",
          "text": [
            "Setting queue=True in a Colab notebook requires sharing enabled. Setting `share=True` (you can turn this off by setting `share=False` in `launch()` explicitly).\n",
            "\n",
            "Colab notebook detected. To show errors in colab notebook, set debug=True in launch()\n",
            "Running on public URL: https://ddbda0d19c2b1e5735.gradio.live\n",
            "\n",
            "This share link expires in 72 hours. For free permanent hosting and GPU upgrades, run `gradio deploy` from Terminal to deploy to Spaces (https://huggingface.co/spaces)\n"
          ]
        },
        {
          "output_type": "display_data",
          "data": {
            "text/plain": [
              "<IPython.core.display.HTML object>"
            ],
            "text/html": [
              "<div><iframe src=\"https://ddbda0d19c2b1e5735.gradio.live\" width=\"100%\" height=\"500\" allow=\"autoplay; camera; microphone; clipboard-read; clipboard-write;\" frameborder=\"0\" allowfullscreen></iframe></div>"
            ]
          },
          "metadata": {}
        },
        {
          "output_type": "execute_result",
          "data": {
            "text/plain": []
          },
          "metadata": {},
          "execution_count": 44
        }
      ]
    }
  ]
}